{
 "cells": [
  {
   "cell_type": "markdown",
   "metadata": {},
   "source": [
    "# Example of Randomization Via Stub-Matching\n",
    "\n"
   ]
  },
  {
   "cell_type": "code",
   "execution_count": 63,
   "metadata": {},
   "outputs": [],
   "source": [
    "import numpy as np\n",
    "import json\n",
    "\n",
    "from math import pi\n",
    "\n",
    "from ahyper import utils, annotated_hypergraph\n",
    "from matplotlib import pyplot as plt\n",
    "from scipy.special import binom"
   ]
  },
  {
   "cell_type": "code",
   "execution_count": 6,
   "metadata": {},
   "outputs": [],
   "source": [
    "with open('data/enron_hypergraph_annotated.json') as file:\n",
    "    data = json.load(file)\n",
    "\n",
    "roles = ['cc', 'from', 'to']\n",
    "\n",
    "A = annotated_hypergraph.AnnotatedHypergraph(data, roles)"
   ]
  },
  {
   "cell_type": "code",
   "execution_count": 7,
   "metadata": {},
   "outputs": [
    {
     "name": "stdout",
     "output_type": "stream",
     "text": [
      "Removed 1246 node-edge incidences\n"
     ]
    }
   ],
   "source": [
    "A.remove_degeneracies(precedence={'from' : 1, 'to' : 2, 'cc' : 3})"
   ]
  },
  {
   "cell_type": "code",
   "execution_count": 8,
   "metadata": {},
   "outputs": [],
   "source": [
    "a = A.stub_matching()"
   ]
  },
  {
   "cell_type": "code",
   "execution_count": 9,
   "metadata": {},
   "outputs": [
    {
     "data": {
      "text/plain": [
       "473"
      ]
     },
     "execution_count": 9,
     "metadata": {},
     "output_type": "execute_result"
    }
   ],
   "source": [
    "a.count_degeneracies()"
   ]
  },
  {
   "cell_type": "code",
   "execution_count": 10,
   "metadata": {},
   "outputs": [
    {
     "data": {
      "text/plain": [
       "(True, True)"
      ]
     },
     "execution_count": 10,
     "metadata": {},
     "output_type": "execute_result"
    }
   ],
   "source": [
    "test1 = a.edge_dimensions(by_role = True) == A.edge_dimensions(by_role = True)\n",
    "test2 = a.node_degrees(by_role = True)    == A.node_degrees(by_role = True)\n",
    "test1, test2"
   ]
  },
  {
   "cell_type": "markdown",
   "metadata": {},
   "source": [
    "# Stub Matching Experiment\n",
    "\n",
    "While we could try to derive analytic estimates or Poisson limit laws for the degeneracy created by stub-matching, an alternative is just to simulate: "
   ]
  },
  {
   "cell_type": "code",
   "execution_count": 22,
   "metadata": {},
   "outputs": [],
   "source": [
    "n_reps = 1000\n",
    "\n",
    "def experiment():\n",
    "    a = A.stub_matching()\n",
    "    return(a.count_degeneracies())\n",
    "\n",
    "v = np.array([experiment() for i in range(n_reps)])"
   ]
  },
  {
   "cell_type": "code",
   "execution_count": 23,
   "metadata": {},
   "outputs": [
    {
     "data": {
      "image/png": "[encoded data removed]",
      "text/plain": [
       "<Figure size 432x288 with 1 Axes>"
      ]
     },
     "metadata": {
      "needs_background": "light"
     },
     "output_type": "display_data"
    }
   ],
   "source": [
    "fig = plt.figure()\n",
    "ax = fig.add_subplot(111)\n",
    "ax.hist(v, bins = 20, color = 'slategrey')\n",
    "ax.spines['right'].set_visible(False)\n",
    "ax.spines['top'].set_visible(False)\n",
    "ax.spines['left'].set_visible(False)\n",
    "ax.spines['bottom'].set_visible(False)\n",
    "ax.yaxis.set_visible(False)\n",
    "ax.set_xlabel('Number of degenerate edges')\n",
    "plt.savefig('fig/stub_matching_degeneracy.png', dpi = 300)"
   ]
  },
  {
   "cell_type": "code",
   "execution_count": 28,
   "metadata": {},
   "outputs": [
    {
     "data": {
      "text/plain": [
       "(447.653, 18.43416911607355)"
      ]
     },
     "execution_count": 28,
     "metadata": {},
     "output_type": "execute_result"
    }
   ],
   "source": [
    "mu = v.mean()\n",
    "sigma = np.sqrt(np.var(v))\n",
    "mu, sigma"
   ]
  },
  {
   "cell_type": "markdown",
   "metadata": {},
   "source": [
    "What's the probability of stub-matching producing a nondegenerate graph? If we assume that the number of degeneracies is roughly Gaussian, we find that the probability is below machine precision: "
   ]
  },
  {
   "cell_type": "code",
   "execution_count": 29,
   "metadata": {},
   "outputs": [
    {
     "data": {
      "text/plain": [
       "7.275275677756522e-258"
      ]
     },
     "execution_count": 29,
     "metadata": {},
     "output_type": "execute_result"
    }
   ],
   "source": [
    "1 / (np.sqrt(2*pi*sigma)) * np.exp(-(mu)**2/(sigma**2))"
   ]
  },
  {
   "cell_type": "code",
   "execution_count": 30,
   "metadata": {},
   "outputs": [],
   "source": [
    "LP = - np.log(np.sqrt(2*pi)*sigma) - (mu**2/sigma**2)"
   ]
  },
  {
   "cell_type": "code",
   "execution_count": 31,
   "metadata": {},
   "outputs": [
    {
     "data": {
      "text/plain": [
       "-593.5395752661085"
      ]
     },
     "execution_count": 31,
     "metadata": {},
     "output_type": "execute_result"
    }
   ],
   "source": [
    "LP"
   ]
  },
  {
   "cell_type": "markdown",
   "metadata": {},
   "source": [
    "# Let's try to estimate some lower bounds?"
   ]
  },
  {
   "cell_type": "code",
   "execution_count": 182,
   "metadata": {},
   "outputs": [],
   "source": [
    "D = A.node_degrees(by_role=True)\n",
    "d = np.array([D[key]['cc'] for key in D])\n",
    "\n",
    "k = 4"
   ]
  },
  {
   "cell_type": "code",
   "execution_count": 204,
   "metadata": {},
   "outputs": [],
   "source": [
    "def log_binom(n, k):\n",
    "    n_fact = np.sum([np.log(a) for a in range(1, n + 1)])\n",
    "    k_fact = np.sum([np.log(a) for a in range(1, k + 1)])\n",
    "    nk_fact = np.sum([np.log(a) for a in range(1, n - k + 1)])\n",
    "    return(n_fact - k_fact - nk_fact)\n",
    "    \n",
    "\n",
    "def log_sig(d, k, n_samples):\n",
    "    def one_sample(d, k):\n",
    "        return np.prod(np.random.choice(d, k, replace = False))\n",
    "    \n",
    "    v = np.array([one_sample(d, k) for i in range(n_samples)])\n",
    "    \n",
    "    log_num_terms = log_binom(len(d), k)\n",
    "    \n",
    "    return(np.log(v.mean()) + log_num_terms)\n",
    "\n",
    "def estimate_degeneracy(d, k, n_samples):\n",
    "    v = log_sig(d, k, n_samples)\n",
    "    exponent = np.log(np.math.factorial(k)) + v - k * (np.log(d.mean()) + np.log(len(d)))\n",
    "    return(np.exp(exponent))"
   ]
  },
  {
   "cell_type": "code",
   "execution_count": 205,
   "metadata": {},
   "outputs": [
    {
     "data": {
      "text/plain": [
       "0.5915033499834529"
      ]
     },
     "execution_count": 205,
     "metadata": {},
     "output_type": "execute_result"
    }
   ],
   "source": [
    "k = 6\n",
    "estimate_degeneracy(d, k, 100000) \n",
    "# so what this suggests is that an edge with $k$ from the given field is going to have this probability of being nondegenerate"
   ]
  },
  {
   "cell_type": "code",
   "execution_count": 308,
   "metadata": {},
   "outputs": [],
   "source": [
    "n_samples = 10**4\n",
    "\n",
    "roles = ['cc', 'from', 'to']\n",
    "\n",
    "K  = A.edge_dimensions(by_role = True)\n",
    "\n",
    "role = 'to'\n",
    "\n",
    "counts, dist = np.unique([L[v][role] for v in L], return_counts=True)\n",
    "\n",
    "D = A.node_degrees(by_role = True)\n",
    "d = np.array([D[key][role] for key in D])\n",
    "\n",
    "degens = np.array([1 - estimate_degeneracy(d, k, n_samples) for k in counts])\n",
    "\n",
    "degens[np.isnan(degens)] = 0\n",
    "\n",
    "# LL = [roles(v) for v in L]"
   ]
  },
  {
   "cell_type": "code",
   "execution_count": 309,
   "metadata": {},
   "outputs": [
    {
     "data": {
      "text/plain": [
       "16.499862970036823"
      ]
     },
     "execution_count": 309,
     "metadata": {},
     "output_type": "execute_result"
    }
   ],
   "source": [
    "(degens*dist).sum()"
   ]
  },
  {
   "cell_type": "code",
   "execution_count": 310,
   "metadata": {},
   "outputs": [
    {
     "data": {
      "text/plain": [
       "array([ 0.        , -0.01906469,  0.02220895,  0.14388729,  0.07155637,\n",
       "        0.13499577,  0.2539859 ,  0.00518055,  0.77330008,  0.95094851,\n",
       "        0.99843858,  0.99998409,  0.99999985,  1.        ,  1.        ,\n",
       "        1.        ,  1.        ])"
      ]
     },
     "execution_count": 310,
     "metadata": {},
     "output_type": "execute_result"
    }
   ],
   "source": [
    "degens"
   ]
  },
  {
   "cell_type": "code",
   "execution_count": null,
   "metadata": {},
   "outputs": [],
   "source": []
  }
 ],
 "metadata": {
  "kernelspec": {
   "display_name": "Python 3",
   "language": "python",
   "name": "python3"
  },
  "language_info": {
   "codemirror_mode": {
    "name": "ipython",
    "version": 3
   },
   "file_extension": ".py",
   "mimetype": "text/x-python",
   "name": "python",
   "nbconvert_exporter": "python",
   "pygments_lexer": "ipython3",
   "version": "3.7.2"
  }
 },
 "nbformat": 4,
 "nbformat_minor": 2
}
