{
 "cells": [
  {
   "cell_type": "code",
   "execution_count": 1,
   "metadata": {},
   "outputs": [],
   "source": [
    "import numpy as np\n",
    "import json\n",
    "\n",
    "from ahyper import utils, annotated_hypergraph, observables\n",
    "from matplotlib import pyplot as plt\n",
    "\n",
    "import pandas as pd\n",
    "\n",
    "import numpy as np\n",
    "import networkx as nx"
   ]
  },
  {
   "cell_type": "code",
   "execution_count": 5,
   "metadata": {},
   "outputs": [
    {
     "name": "stdout",
     "output_type": "stream",
     "text": [
      "Removed 1246 node-edge incidences\n",
      "Removed 901 singletons.\n"
     ]
    }
   ],
   "source": [
    "with open('data/enron_hypergraph_annotated.json') as file:\n",
    "    data = json.load(file)\n",
    "\n",
    "roles = ['cc', 'from', 'to']\n",
    "\n",
    "A = annotated_hypergraph.AnnotatedHypergraph.from_records(data, roles)\n",
    "A.remove_degeneracies(precedence = {'from' : 1, 'to' : 2, 'cc' : 3})\n",
    "A.remove_singletons()"
   ]
  },
  {
   "cell_type": "code",
   "execution_count": 6,
   "metadata": {},
   "outputs": [],
   "source": [
    "def local_role_density_MI(A):\n",
    "    with np.errstate(divide='ignore', invalid='ignore'):\n",
    "        M = observables.local_role_density(A, as_array = True)\n",
    "        p_ = M.mean(axis = 0)\n",
    "        return(1/A.n* np.nansum((np.log(M/p_) * M)))"
   ]
  },
  {
   "cell_type": "code",
   "execution_count": 7,
   "metadata": {},
   "outputs": [
    {
     "name": "stdout",
     "output_type": "stream",
     "text": [
      "0.1414143984329399 0.04960725826537341\n"
     ]
    }
   ],
   "source": [
    "d0 = local_role_density_MI(A)\n",
    "\n",
    "A.MCMC(n_steps = 100000)\n",
    "d1 = local_role_density_MI(A)\n",
    "\n",
    "print(d0, d1)"
   ]
  }
 ],
 "metadata": {
  "kernelspec": {
   "display_name": "Python 3",
   "language": "python",
   "name": "python3"
  },
  "language_info": {
   "codemirror_mode": {
    "name": "ipython",
    "version": 3
   },
   "file_extension": ".py",
   "mimetype": "text/x-python",
   "name": "python",
   "nbconvert_exporter": "python",
   "pygments_lexer": "ipython3",
   "version": "3.7.2"
  }
 },
 "nbformat": 4,
 "nbformat_minor": 2
}
