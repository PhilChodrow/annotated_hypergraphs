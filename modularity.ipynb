{
 "cells": [
  {
   "cell_type": "code",
   "execution_count": 17,
   "metadata": {},
   "outputs": [],
   "source": [
    "import numpy as np\n",
    "import json\n",
    "\n",
    "from ahyper import utils, annotated_hypergraph, observables\n",
    "from matplotlib import pyplot as plt\n",
    "import matplotlib.patches as patches\n",
    "\n",
    "import pandas as pd\n",
    "\n",
    "import numpy as np\n",
    "import networkx as nx"
   ]
  },
  {
   "cell_type": "code",
   "execution_count": 18,
   "metadata": {},
   "outputs": [
    {
     "name": "stdout",
     "output_type": "stream",
     "text": [
      "Removed 1246 node-edge incidences\n",
      "Removed 901 singletons.\n"
     ]
    }
   ],
   "source": [
    "with open('data/enron_hypergraph_annotated.json') as file:\n",
    "    data = json.load(file)\n",
    "\n",
    "roles = ['cc', 'from', 'to']\n",
    "\n",
    "A = annotated_hypergraph.AnnotatedHypergraph.from_records(data, roles)\n",
    "A.remove_degeneracies(precedence = {'from' : 1, 'to' : 2, 'cc' : 3})\n",
    "A.remove_singletons()"
   ]
  },
  {
   "cell_type": "code",
   "execution_count": 19,
   "metadata": {},
   "outputs": [],
   "source": [
    "def get_partition(R, k, n_reps):\n",
    "\n",
    "    A.assign_role_interaction_matrix(R)\n",
    "    \n",
    "    W_ = A.null_expectation_matrix()\n",
    "    W = A.to_weighted_projection(as_matrix = True)\n",
    "\n",
    "    # symmetrize\n",
    "    Ws =  (W  + W.T) / 2\n",
    "    Ws_ = (W_ + W_.T)/2\n",
    "\n",
    "    best_Q = 0\n",
    "    for i in range(n_reps):\n",
    "        ell, Q = observables.multiway_spectral(Ws, Ws_, k)\n",
    "        if Q > best_Q:\n",
    "            best_Q = Q\n",
    "            best_part = ell\n",
    "\n",
    "    Q = best_Q\n",
    "    ell = best_part\n",
    "    return(Q, ell)"
   ]
  },
  {
   "cell_type": "markdown",
   "metadata": {},
   "source": [
    "# Case Study + Viz"
   ]
  },
  {
   "cell_type": "code",
   "execution_count": 20,
   "metadata": {},
   "outputs": [
    {
     "data": {
      "text/plain": [
       "['cc', 'from', 'to']"
      ]
     },
     "execution_count": 20,
     "metadata": {},
     "output_type": "execute_result"
    }
   ],
   "source": [
    "A.roles"
   ]
  },
  {
   "cell_type": "code",
   "execution_count": 21,
   "metadata": {},
   "outputs": [
    {
     "name": "stdout",
     "output_type": "stream",
     "text": [
      "0.5061295596570673\n"
     ]
    }
   ],
   "source": [
    "np.random.seed(555)\n",
    "\n",
    "\n",
    "R = np.array([[0.0, 0.0, 0.0], \n",
    "              [0.25, 0.0, 1.0], \n",
    "              [0.0, 0.0, 0.0]])\n",
    "\n",
    "Q, ell = get_partition(R, 4, 100)\n",
    "\n",
    "print(Q)"
   ]
  },
  {
   "cell_type": "code",
   "execution_count": 26,
   "metadata": {},
   "outputs": [],
   "source": [
    "def reorder_labels(x):\n",
    "    counts = np.bincount(x)\n",
    "    lookup = np.argsort(np.argsort(-counts))\n",
    "    return(np.array([lookup[i] for i in x]).astype(int))\n",
    "\n",
    "ell = -reorder_labels(ell.astype(int))\n"
   ]
  },
  {
   "cell_type": "code",
   "execution_count": 47,
   "metadata": {},
   "outputs": [
    {
     "data": {
      "image/png": "[encoded data removed]",
      "text/plain": [
       "<Figure size 360x288 with 2 Axes>"
      ]
     },
     "metadata": {
      "needs_background": "light"
     },
     "output_type": "display_data"
    }
   ],
   "source": [
    "\n",
    "def degree_sort(A, d):\n",
    "    row_sorted = A[np.argsort(d)]\n",
    "    col_sorted = row_sorted[:, np.argsort(d)]\n",
    "    return(col_sorted)\n",
    "\n",
    "W = A.to_weighted_projection(as_matrix = True)\n",
    "\n",
    "fig = plt.figure(figsize = (5, 4))\n",
    "ax = fig.add_subplot(111)\n",
    "im = ax.imshow(degree_sort(np.log(1+W), ell), cmap = 'inferno', interpolation = 'nearest')\n",
    "\n",
    "ix1 = np.array([0,0])\n",
    "\n",
    "for i in np.unique(ell):\n",
    "    j = (ell == i).sum()\n",
    "    rect = patches.Rectangle(ix1-.5,j,j,linewidth=.5,edgecolor='w',facecolor='none')\n",
    "    ax.add_patch(rect)\n",
    "    ix1 += np.array([j,j])\n",
    "\n",
    "for loc in ['top', 'right', 'bottom', 'left']:\n",
    "        ax.spines[loc].set_visible(False)\n",
    "\n",
    "ax.tick_params(\n",
    "    which='both',      # both major and minor ticks are affected\n",
    "    bottom=False,      # ticks along the bottom edge are off\n",
    "    top=False,         # ticks along the top edge are off\n",
    "    right=False,\n",
    "    left=False,\n",
    "    labelbottom=False,\n",
    "    labelleft=False,\n",
    "    length = 0)\n",
    "    \n",
    "cbar = plt.colorbar(im)\n",
    "cbar.ax.set_ylabel(r'$\\log W_{ij} + 1$', rotation = 90)\n",
    "\n",
    "plt.savefig('fig/partition_matrix.png', dpi = 300)"
   ]
  },
  {
   "cell_type": "code",
   "execution_count": 7,
   "metadata": {},
   "outputs": [],
   "source": [
    "t = 0\n",
    "\n",
    "threshed = W.copy()\n",
    "threshed[threshed < t] = 0\n",
    "\n",
    "H = nx.from_numpy_array(W, create_using = nx.DiGraph())\n",
    "G = nx.from_numpy_array(threshed,create_using = nx.DiGraph())\n",
    "\n",
    "isolates = list(nx.isolates(G))\n",
    "G.remove_nodes_from(isolates)\n",
    "\n",
    "nx.set_node_attributes(G, \n",
    "                      {i : ell[i] for i in G.nodes},\n",
    "                      'group')"
   ]
  },
  {
   "cell_type": "code",
   "execution_count": 8,
   "metadata": {},
   "outputs": [],
   "source": [
    "# labels = pd.read_csv('data/enron_jobs.csv')\n",
    "# labels['job'] = labels.job.astype(str)\n",
    "# lookup_ = {labels.node_id.iloc[i] : labels.job.iloc[i] for i in range(len(labels))}\n",
    "# lookup = {key : lookup_[key] for key in lookup_ if lookup_[key] != 'nan'}\n",
    "\n",
    "# to_rm = []\n",
    "# for j in lookup:\n",
    "#     if j not in G.nodes:\n",
    "#         to_rm.append(j)\n",
    "        \n",
    "# # for j in to_rm:\n",
    "# #     lookup.pop(j)\n",
    "    \n",
    "# nx.set_node_attributes(G, lookup, 'label')\n",
    "\n",
    "# # groups = [nx.get_node_attributes(G, 'group')[i] for i in G.nodes]\n",
    "\n",
    "# groups = np.array(list(nx.get_node_attributes(G, 'group')[i] for i in G.nodes))\n",
    "# ids = np.array(list(G.nodes))\n",
    "# new_ids = groups * 1000 + ids\n",
    "\n",
    "# mapper = {ids[i] : new_ids[i] for i in range(len(G.nodes))}\n",
    "\n",
    "# G = nx.relabel_nodes(G, mapper)"
   ]
  },
  {
   "cell_type": "code",
   "execution_count": 10,
   "metadata": {},
   "outputs": [],
   "source": [
    "edges = nx.to_pandas_edgelist(G)\n",
    "nodes = pd.DataFrame.from_dict(dict(G.nodes(data=True)), orient='index').reset_index()\n",
    "labels = pd.read_csv('data/enron_jobs.csv')\n",
    "\n",
    "nodes = nodes.merge(labels, 'left', left_on = 'index', right_on = 'node_id')\n",
    "\n",
    "nodes.to_csv('throughput/nodes.csv', index = False)\n",
    "edges.to_csv('throughput/edges.csv', index = False)"
   ]
  },
  {
   "cell_type": "markdown",
   "metadata": {},
   "source": [
    "# Batch Comparisons"
   ]
  },
  {
   "cell_type": "code",
   "execution_count": 50,
   "metadata": {},
   "outputs": [
    {
     "name": "stdout",
     "output_type": "stream",
     "text": [
      "0.5059156107430579 4\n"
     ]
    }
   ],
   "source": [
    "np.random.seed(1)\n",
    "\n",
    "Q, ell = get_partition(R, 4, 100)\n",
    "print(Q, len(np.unique(ell)))"
   ]
  },
  {
   "cell_type": "code",
   "execution_count": 51,
   "metadata": {},
   "outputs": [],
   "source": [
    "R1 = np.ones((3,3))"
   ]
  },
  {
   "cell_type": "code",
   "execution_count": 52,
   "metadata": {},
   "outputs": [
    {
     "name": "stdout",
     "output_type": "stream",
     "text": [
      "0.5242707816136633 3\n"
     ]
    }
   ],
   "source": [
    "np.random.seed(1)\n",
    "\n",
    "Q1, ell1 = get_partition(R1, 4, 100)\n",
    "print(Q1, len(np.unique(ell1)))"
   ]
  },
  {
   "cell_type": "code",
   "execution_count": 53,
   "metadata": {},
   "outputs": [
    {
     "name": "stderr",
     "output_type": "stream",
     "text": [
      "/Users/philchodrow/Dropbox (MIT)/projects/annotated_hypergraphs_code/ahyper/observables.py:435: RuntimeWarning: invalid value encountered in true_divide\n",
      "  mat = (joint*np.log(joint / np.outer(p_x, p_y)))\n",
      "/Users/philchodrow/Dropbox (MIT)/projects/annotated_hypergraphs_code/ahyper/observables.py:435: RuntimeWarning: divide by zero encountered in log\n",
      "  mat = (joint*np.log(joint / np.outer(p_x, p_y)))\n",
      "/Users/philchodrow/Dropbox (MIT)/projects/annotated_hypergraphs_code/ahyper/observables.py:435: RuntimeWarning: invalid value encountered in multiply\n",
      "  mat = (joint*np.log(joint / np.outer(p_x, p_y)))\n",
      "/Users/philchodrow/Dropbox (MIT)/projects/annotated_hypergraphs_code/ahyper/observables.py:445: RuntimeWarning: divide by zero encountered in log\n",
      "  H_y = -p_y*np.log(p_y)\n",
      "/Users/philchodrow/Dropbox (MIT)/projects/annotated_hypergraphs_code/ahyper/observables.py:445: RuntimeWarning: invalid value encountered in multiply\n",
      "  H_y = -p_y*np.log(p_y)\n"
     ]
    },
    {
     "data": {
      "text/plain": [
       "0.5526933071363485"
      ]
     },
     "execution_count": 53,
     "metadata": {},
     "output_type": "execute_result"
    }
   ],
   "source": [
    "observables.MI(ell, ell1, normalize=True)"
   ]
  }
 ],
 "metadata": {
  "kernelspec": {
   "display_name": "Python 3",
   "language": "python",
   "name": "python3"
  },
  "language_info": {
   "codemirror_mode": {
    "name": "ipython",
    "version": 3
   },
   "file_extension": ".py",
   "mimetype": "text/x-python",
   "name": "python",
   "nbconvert_exporter": "python",
   "pygments_lexer": "ipython3",
   "version": "3.7.2"
  }
 },
 "nbformat": 4,
 "nbformat_minor": 2
}
