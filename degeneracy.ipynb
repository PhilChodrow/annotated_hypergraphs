{
 "cells": [
  {
   "cell_type": "markdown",
   "metadata": {},
   "source": [
    "# Data Cleaning, Degenerate Edges and MCMC\n",
    "\n",
    "An edge is *degenerate* if it contains the same node multiple times, possibly in different roles. In the Enron email data set, for example, if a person cc'd themselves on an email, then they will appear in the corresponding edge twice. Degenerate edges generalize self-loops on dyadic networks, and can generate some technical issues in the context of MCMC algorithms. "
   ]
  },
  {
   "cell_type": "code",
   "execution_count": 1,
   "metadata": {},
   "outputs": [],
   "source": [
    "import numpy as np\n",
    "import json\n",
    "from itertools import groupby\n",
    "from collections import namedtuple\n",
    "\n",
    "from ahyper import utils, annotated_hypergraph"
   ]
  },
  {
   "cell_type": "code",
   "execution_count": 2,
   "metadata": {},
   "outputs": [],
   "source": [
    "with open('data/enron_hypergraph_annotated.json') as file:\n",
    "    data = json.load(file)\n",
    "\n",
    "roles = ['cc', 'from', 'to']"
   ]
  },
  {
   "cell_type": "code",
   "execution_count": 3,
   "metadata": {},
   "outputs": [],
   "source": [
    "A = annotated_hypergraph.AnnotatedHypergraph(data, roles)"
   ]
  },
  {
   "cell_type": "code",
   "execution_count": 4,
   "metadata": {},
   "outputs": [
    {
     "data": {
      "text/plain": [
       "(112, 10504)"
      ]
     },
     "execution_count": 4,
     "metadata": {},
     "output_type": "execute_result"
    }
   ],
   "source": [
    "A.n, A.m"
   ]
  },
  {
   "cell_type": "markdown",
   "metadata": {},
   "source": [
    "We can count the number of degenerate edges in A using the `annotated_hypergraph.count_degeneracies()` method. Each edge is considered degenerate if at least one node is repeated at least once -- multiple repetitions don't make the edge \"more degenerate.\" "
   ]
  },
  {
   "cell_type": "code",
   "execution_count": 5,
   "metadata": {},
   "outputs": [
    {
     "name": "stdout",
     "output_type": "stream",
     "text": [
      "There are 1191 degenerate edges.\n"
     ]
    }
   ],
   "source": [
    "print('There are ' + str(A.count_degeneracies()) + ' degenerate edges.')"
   ]
  },
  {
   "cell_type": "markdown",
   "metadata": {},
   "source": [
    "The following method can be used to clean degenerate edges in A by removing offending node-edge incidences. The `precedence` keyword states the order in which degeneracies should be removed. In the example below, if a node appears in an edge with both a `from` role and a `cc` role, the `cc` role will be deleted. "
   ]
  },
  {
   "cell_type": "code",
   "execution_count": 6,
   "metadata": {},
   "outputs": [
    {
     "name": "stdout",
     "output_type": "stream",
     "text": [
      "Removed 1246 node-edge incidences\n",
      "There are 0 degenerate edges.\n"
     ]
    }
   ],
   "source": [
    "A.remove_degeneracies(precedence = {'from' : 1, 'to' : 2, 'cc' : 3})\n",
    "print('There are ' + str(A.count_degeneracies()) + ' degenerate edges.')"
   ]
  },
  {
   "cell_type": "markdown",
   "metadata": {},
   "source": [
    "## Singletons"
   ]
  },
  {
   "cell_type": "markdown",
   "metadata": {},
   "source": [
    "Edges with only one node can cause interpretation issues. They can arise either when they are correctly present in the data (e.g. single-author papers), when they are incorrectly present in the data, or when they arise as an artifact of other cleaning operations. For example, an edge in the original data that consists of a single person sending themselves a message contains the same node twice, once as `from` and once as `to`. After removing degeneracies, this edge will consist of a single `from` node. The following method can be used to remove such artifacts. "
   ]
  },
  {
   "cell_type": "code",
   "execution_count": 7,
   "metadata": {},
   "outputs": [
    {
     "name": "stdout",
     "output_type": "stream",
     "text": [
      "Removed 901 singletons.\n"
     ]
    }
   ],
   "source": [
    "A.remove_singletons()"
   ]
  },
  {
   "cell_type": "markdown",
   "metadata": {},
   "source": [
    "The new dimensions of the data are: "
   ]
  },
  {
   "cell_type": "code",
   "execution_count": 8,
   "metadata": {},
   "outputs": [
    {
     "data": {
      "text/plain": [
       "(9603, 110)"
      ]
     },
     "execution_count": 8,
     "metadata": {},
     "output_type": "execute_result"
    }
   ],
   "source": [
    "A.m, A.n"
   ]
  },
  {
   "cell_type": "markdown",
   "metadata": {},
   "source": [
    "# Degeneracy-Avoiding MCMC"
   ]
  },
  {
   "cell_type": "markdown",
   "metadata": {},
   "source": [
    "The first stub-labeled MCMC algorithm implemented can create degeneracies:"
   ]
  },
  {
   "cell_type": "code",
   "execution_count": 9,
   "metadata": {},
   "outputs": [
    {
     "name": "stdout",
     "output_type": "stream",
     "text": [
      "There are 0 degenerate edges.\n"
     ]
    }
   ],
   "source": [
    "print('There are ' + str(A.count_degeneracies()) + ' degenerate edges.')"
   ]
  },
  {
   "cell_type": "code",
   "execution_count": 10,
   "metadata": {},
   "outputs": [
    {
     "name": "stdout",
     "output_type": "stream",
     "text": [
      "There are 466 degenerate edges.\n"
     ]
    }
   ],
   "source": [
    "A.stub_labeled_MCMC(n_steps=100000)\n",
    "print('There are ' + str(A.count_degeneracies()) + ' degenerate edges.')"
   ]
  },
  {
   "cell_type": "markdown",
   "metadata": {},
   "source": [
    "The below code checks edges prior to executing swaps in order to avoid degeneracies. This comes at the cost of some performance hits: there is a rejection probability, and I believe each step is also somewhat more expensive now. "
   ]
  },
  {
   "cell_type": "code",
   "execution_count": null,
   "metadata": {},
   "outputs": [
    {
     "name": "stdout",
     "output_type": "stream",
     "text": [
      "Removed 554 node-edge incidences\n"
     ]
    }
   ],
   "source": [
    "A.remove_degeneracies(precedence = {'from' : 1, 'to' : 2, 'cc' : 3})\n",
    "A.MCMC(n_steps = 100000)\n",
    "print('There are ' + str(A.count_degeneracies()) + ' degenerate edges.')"
   ]
  },
  {
   "cell_type": "markdown",
   "metadata": {},
   "source": [
    "## Quick Check "
   ]
  },
  {
   "cell_type": "code",
   "execution_count": 12,
   "metadata": {},
   "outputs": [
    {
     "name": "stdout",
     "output_type": "stream",
     "text": [
      "100000 steps taken, 154420 steps rejected.\n"
     ]
    },
    {
     "data": {
      "text/plain": [
       "(True, True)"
      ]
     },
     "execution_count": 12,
     "metadata": {},
     "output_type": "execute_result"
    }
   ],
   "source": [
    "E0 = A.edge_dimensions(by_role=True).copy()\n",
    "D0 = A.node_degrees(by_role=True).copy()\n",
    "\n",
    "A.MCMC(n_steps = 100000)\n",
    "\n",
    "A.edge_dimensions(by_role = True) == E0, A.node_degrees(by_role = True) == D0 "
   ]
  }
 ],
 "metadata": {
  "kernelspec": {
   "display_name": "Python 3",
   "language": "python",
   "name": "python3"
  },
  "language_info": {
   "codemirror_mode": {
    "name": "ipython",
    "version": 3
   },
   "file_extension": ".py",
   "mimetype": "text/x-python",
   "name": "python",
   "nbconvert_exporter": "python",
   "pygments_lexer": "ipython3",
   "version": "3.7.2"
  }
 },
 "nbformat": 4,
 "nbformat_minor": 2
}
