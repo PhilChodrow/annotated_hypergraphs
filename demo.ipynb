{
 "cells": [
  {
   "cell_type": "code",
   "execution_count": 1,
   "metadata": {},
   "outputs": [],
   "source": [
    "# import numpy as np\n",
    "# import pandas as pd\n",
    "import json\n",
    "\n",
    "from ahyper import utils, annotated_hypergraph\n",
    "# from itertools import groupby\n",
    "# from collections import Counter\n"
   ]
  },
  {
   "cell_type": "code",
   "execution_count": 2,
   "metadata": {},
   "outputs": [],
   "source": [
    "with open('data/enron_hypergraph_annotated.json') as file:\n",
    "    data = json.load(file)\n",
    "\n",
    "roles = ['cc', 'from', 'to']\n",
    "\n",
    "# add unique ID to each edge:\n",
    "for i in range(len(data)):\n",
    "    data[i]['eid'] = -(i+1)"
   ]
  },
  {
   "cell_type": "code",
   "execution_count": 3,
   "metadata": {},
   "outputs": [
    {
     "data": {
      "text/plain": [
       "[{'cc': [],\n",
       "  'date': '1998-11-13 12:07:00',\n",
       "  'eid': -1,\n",
       "  'from': [67],\n",
       "  'to': [108]},\n",
       " {'cc': [],\n",
       "  'date': '1998-11-19 15:19:00',\n",
       "  'eid': -2,\n",
       "  'from': [67],\n",
       "  'to': [73]}]"
      ]
     },
     "execution_count": 3,
     "metadata": {},
     "output_type": "execute_result"
    }
   ],
   "source": [
    "data[0:2]"
   ]
  },
  {
   "cell_type": "markdown",
   "metadata": {},
   "source": [
    "# Construct an Annotated Hypergraph"
   ]
  },
  {
   "cell_type": "code",
   "execution_count": 4,
   "metadata": {},
   "outputs": [],
   "source": [
    "A = annotated_hypergraph.annotated_hypergraph(data, roles)"
   ]
  },
  {
   "cell_type": "markdown",
   "metadata": {},
   "source": [
    "First, `A` stores lists of the node and edge ids. Nodes are numbered from $0$ to $n-1$. Edges are numbered from $-1$ to $-m$. "
   ]
  },
  {
   "cell_type": "code",
   "execution_count": 5,
   "metadata": {},
   "outputs": [
    {
     "data": {
      "text/plain": [
       "array([ 0,  1,  2,  3,  4,  5,  6,  7,  8, 10])"
      ]
     },
     "execution_count": 5,
     "metadata": {},
     "output_type": "execute_result"
    }
   ],
   "source": [
    "A.get_node_list()[0:10]"
   ]
  },
  {
   "cell_type": "code",
   "execution_count": 6,
   "metadata": {},
   "outputs": [
    {
     "data": {
      "text/plain": [
       "array([-10504, -10503, -10502, -10501, -10500, -10499, -10498, -10497,\n",
       "       -10496, -10495])"
      ]
     },
     "execution_count": 6,
     "metadata": {},
     "output_type": "execute_result"
    }
   ],
   "source": [
    "A.get_edge_list()[0:10]"
   ]
  },
  {
   "cell_type": "markdown",
   "metadata": {},
   "source": [
    "We can also get the node degree sequence, optionally broken down by role: "
   ]
  },
  {
   "cell_type": "code",
   "execution_count": 7,
   "metadata": {},
   "outputs": [
    {
     "data": {
      "text/plain": [
       "{'cc': 0, 'from': 12, 'to': 5}"
      ]
     },
     "execution_count": 7,
     "metadata": {},
     "output_type": "execute_result"
    }
   ],
   "source": [
    "# degree sequence\n",
    "A.node_degrees() # get all node degrees (totals)\n",
    "A.node_degrees(by_role = True)[4] # get the role-degrees of node 4 "
   ]
  },
  {
   "cell_type": "markdown",
   "metadata": {},
   "source": [
    "Similarly, we can get the edge dimension sequence, again optionally broken down by role: "
   ]
  },
  {
   "cell_type": "code",
   "execution_count": 8,
   "metadata": {},
   "outputs": [
    {
     "data": {
      "text/plain": [
       "{'cc': 2, 'from': 1, 'to': 0}"
      ]
     },
     "execution_count": 8,
     "metadata": {},
     "output_type": "execute_result"
    }
   ],
   "source": [
    "# edge dimension sequence\n",
    "\n",
    "A.edge_dimensions() # get all edge dimensions (totals)\n",
    "A.edge_dimensions(by_role = True)[-5] # get the role-dimensions of edge -5"
   ]
  },
  {
   "cell_type": "markdown",
   "metadata": {},
   "source": [
    "Internally, `A` is representing the data as an annotated node-edge incidence list. It's convenient to think of this as the edge-list of the bipartite graph in which each edge is labeled with a name and a role. It is possible to access the list directly: "
   ]
  },
  {
   "cell_type": "code",
   "execution_count": 9,
   "metadata": {},
   "outputs": [
    {
     "data": {
      "text/plain": [
       "[[67, 'from', -1, '1998-11-13 12:07:00'],\n",
       " [108, 'to', -1, '1998-11-13 12:07:00'],\n",
       " [67, 'from', -2, '1998-11-19 15:19:00'],\n",
       " [73, 'to', -2, '1998-11-19 15:19:00'],\n",
       " [73, 'cc', -3, '1998-11-19 16:24:00'],\n",
       " [67, 'from', -3, '1998-11-19 16:24:00'],\n",
       " [108, 'cc', -4, '1998-11-24 10:23:00'],\n",
       " [96, 'cc', -4, '1998-11-24 10:23:00'],\n",
       " [22, 'cc', -4, '1998-11-24 10:23:00'],\n",
       " [67, 'from', -4, '1998-11-24 10:23:00']]"
      ]
     },
     "execution_count": 9,
     "metadata": {},
     "output_type": "execute_result"
    }
   ],
   "source": [
    "A.get_IL()[0:10]"
   ]
  },
  {
   "cell_type": "markdown",
   "metadata": {},
   "source": [
    "# Stub-Labeled MCMC \n",
    "\n",
    "We can define a simple version of stub-labeled Markov Chain Monte Carlo in this space, which essentially amounts to swapping edges of the bipartite graph in such a way that edges can only be swapped if their roles agree. This MCMC algorithm preserves degree sequence and edge dimension sequence, including the `by_role` variants. "
   ]
  },
  {
   "cell_type": "markdown",
   "metadata": {},
   "source": [
    "# Check for preservation of node degrees and edge dimensions"
   ]
  },
  {
   "cell_type": "code",
   "execution_count": 10,
   "metadata": {},
   "outputs": [],
   "source": [
    "d0 = A.node_degrees(by_role = True)\n",
    "k0 = A.edge_dimensions(by_role = True)"
   ]
  },
  {
   "cell_type": "code",
   "execution_count": 11,
   "metadata": {},
   "outputs": [
    {
     "data": {
      "text/plain": [
       "[[67, 'from', -1, '1998-11-13 12:07:00'],\n",
       " [57, 'to', -1, '1998-11-13 12:07:00'],\n",
       " [108, 'from', -2, '1998-11-19 15:19:00'],\n",
       " [54, 'to', -2, '1998-11-19 15:19:00'],\n",
       " [53, 'cc', -3, '1998-11-19 16:24:00'],\n",
       " [114, 'from', -3, '1998-11-19 16:24:00'],\n",
       " [100, 'cc', -4, '1998-11-24 10:23:00'],\n",
       " [86, 'cc', -4, '1998-11-24 10:23:00'],\n",
       " [66, 'cc', -4, '1998-11-24 10:23:00'],\n",
       " [66, 'from', -4, '1998-11-24 10:23:00']]"
      ]
     },
     "execution_count": 11,
     "metadata": {},
     "output_type": "execute_result"
    }
   ],
   "source": [
    "A.stub_labeled_MCMC(n_steps = 100000)\n",
    "A.get_IL()[0:10] # not the same list as above"
   ]
  },
  {
   "cell_type": "code",
   "execution_count": 12,
   "metadata": {},
   "outputs": [],
   "source": [
    "d = A.node_degrees(by_role = True)\n",
    "k = A.edge_dimensions(by_role = True)"
   ]
  },
  {
   "cell_type": "code",
   "execution_count": 13,
   "metadata": {},
   "outputs": [
    {
     "data": {
      "text/plain": [
       "(True, True)"
      ]
     },
     "execution_count": 13,
     "metadata": {},
     "output_type": "execute_result"
    }
   ],
   "source": [
    "d0 == d, k0 == k # but the degree and dimension sequences are preserved"
   ]
  },
  {
   "cell_type": "markdown",
   "metadata": {},
   "source": [
    "# Output\n",
    "\n",
    "You can read out data from `A` either as a list of dicts (\"records\", suitable for output as json) or as an incidence list. "
   ]
  },
  {
   "cell_type": "code",
   "execution_count": 14,
   "metadata": {},
   "outputs": [
    {
     "data": {
      "text/plain": [
       "[{'cc': [],\n",
       "  'date': '1998-11-13 12:07:00',\n",
       "  'eid': -1,\n",
       "  'from': [67],\n",
       "  'to': [57]},\n",
       " {'cc': [],\n",
       "  'date': '1998-11-19 15:19:00',\n",
       "  'eid': -2,\n",
       "  'from': [108],\n",
       "  'to': [54]}]"
      ]
     },
     "execution_count": 14,
     "metadata": {},
     "output_type": "execute_result"
    }
   ],
   "source": [
    "A.get_records()[0:2]"
   ]
  },
  {
   "cell_type": "code",
   "execution_count": 15,
   "metadata": {},
   "outputs": [
    {
     "data": {
      "text/plain": [
       "[[67, 'from', -1, '1998-11-13 12:07:00'],\n",
       " [57, 'to', -1, '1998-11-13 12:07:00'],\n",
       " [108, 'from', -2, '1998-11-19 15:19:00'],\n",
       " [54, 'to', -2, '1998-11-19 15:19:00']]"
      ]
     },
     "execution_count": 15,
     "metadata": {},
     "output_type": "execute_result"
    }
   ],
   "source": [
    "A.get_IL()[0:4]"
   ]
  },
  {
   "cell_type": "markdown",
   "metadata": {},
   "source": [
    "# Next?\n",
    "\n",
    "Possible next steps for this software include refactoring the internals under pandas and implementation of alternative MCMC schemes, possibly including vertex-labeled ones. "
   ]
  }
 ],
 "metadata": {
  "kernelspec": {
   "display_name": "Python 3",
   "language": "python",
   "name": "python3"
  },
  "language_info": {
   "codemirror_mode": {
    "name": "ipython",
    "version": 3
   },
   "file_extension": ".py",
   "mimetype": "text/x-python",
   "name": "python",
   "nbconvert_exporter": "python",
   "pygments_lexer": "ipython3",
   "version": "3.5.2"
  }
 },
 "nbformat": 4,
 "nbformat_minor": 4
}
