{
 "cells": [
  {
   "cell_type": "code",
   "execution_count": 1,
   "metadata": {},
   "outputs": [],
   "source": [
    "import numpy as np\n",
    "import json\n",
    "\n",
    "from ahyper import utils, annotated_hypergraph"
   ]
  },
  {
   "cell_type": "code",
   "execution_count": 2,
   "metadata": {},
   "outputs": [],
   "source": [
    "with open('data/enron_hypergraph_annotated.json') as file:\n",
    "    data = json.load(file)\n",
    "\n",
    "roles = ['cc', 'from', 'to']\n",
    "\n",
    "# add unique ID to each edge:\n",
    "for i in range(len(data)):\n",
    "    data[i]['eid'] = -(i+1)"
   ]
  },
  {
   "cell_type": "code",
   "execution_count": 3,
   "metadata": {},
   "outputs": [
    {
     "data": {
      "text/plain": [
       "[{'cc': [],\n",
       "  'date': '1998-11-13 12:07:00',\n",
       "  'eid': -1,\n",
       "  'from': [67],\n",
       "  'to': [108]},\n",
       " {'cc': [],\n",
       "  'date': '1998-11-19 15:19:00',\n",
       "  'eid': -2,\n",
       "  'from': [67],\n",
       "  'to': [73]}]"
      ]
     },
     "execution_count": 3,
     "metadata": {},
     "output_type": "execute_result"
    }
   ],
   "source": [
    "data[0:2]"
   ]
  },
  {
   "cell_type": "markdown",
   "metadata": {},
   "source": [
    "# Construct an Annotated Hypergraph"
   ]
  },
  {
   "cell_type": "code",
   "execution_count": 4,
   "metadata": {},
   "outputs": [],
   "source": [
    "A = annotated_hypergraph.annotated_hypergraph(data, roles)"
   ]
  },
  {
   "cell_type": "markdown",
   "metadata": {},
   "source": [
    "First, `A` stores lists of the node and edge ids. Nodes are numbered from $0$ to $n-1$. Edges are numbered from $-1$ to $-m$. "
   ]
  },
  {
   "cell_type": "code",
   "execution_count": 5,
   "metadata": {},
   "outputs": [
    {
     "data": {
      "text/plain": [
       "array([ 0,  1,  2,  3,  4,  5,  6,  7,  8, 10])"
      ]
     },
     "execution_count": 5,
     "metadata": {},
     "output_type": "execute_result"
    }
   ],
   "source": [
    "A.get_node_list()[0:10]"
   ]
  },
  {
   "cell_type": "code",
   "execution_count": 6,
   "metadata": {},
   "outputs": [
    {
     "data": {
      "text/plain": [
       "array([-10504, -10503, -10502, -10501, -10500, -10499, -10498, -10497,\n",
       "       -10496, -10495])"
      ]
     },
     "execution_count": 6,
     "metadata": {},
     "output_type": "execute_result"
    }
   ],
   "source": [
    "A.get_edge_list()[0:10]"
   ]
  },
  {
   "cell_type": "markdown",
   "metadata": {},
   "source": [
    "We can also get the node degree sequence, optionally broken down by role: "
   ]
  },
  {
   "cell_type": "code",
   "execution_count": 7,
   "metadata": {},
   "outputs": [
    {
     "data": {
      "text/plain": [
       "{'cc': 0, 'from': 12, 'to': 5}"
      ]
     },
     "execution_count": 7,
     "metadata": {},
     "output_type": "execute_result"
    }
   ],
   "source": [
    "# degree sequence\n",
    "A.node_degrees() # get all node degrees (totals)\n",
    "A.node_degrees(by_role = True)[4] # get the role-degrees of node 4 "
   ]
  },
  {
   "cell_type": "markdown",
   "metadata": {},
   "source": [
    "Similarly, we can get the edge dimension sequence, again optionally broken down by role: "
   ]
  },
  {
   "cell_type": "code",
   "execution_count": 8,
   "metadata": {},
   "outputs": [
    {
     "data": {
      "text/plain": [
       "{'cc': 2, 'from': 1, 'to': 0}"
      ]
     },
     "execution_count": 8,
     "metadata": {},
     "output_type": "execute_result"
    }
   ],
   "source": [
    "# edge dimension sequence\n",
    "\n",
    "A.edge_dimensions() # get all edge dimensions (totals)\n",
    "A.edge_dimensions(by_role = True)[-5] # get the role-dimensions of edge -5"
   ]
  },
  {
   "cell_type": "markdown",
   "metadata": {},
   "source": [
    "Internally, `A` is representing the data as an annotated node-edge incidence list. It's convenient to think of this as the edge-list of the bipartite graph in which each edge is labeled with a name and a role. It is possible to access the list directly: "
   ]
  },
  {
   "cell_type": "code",
   "execution_count": 9,
   "metadata": {},
   "outputs": [
    {
     "data": {
      "text/plain": [
       "[[67, 'from', -1, '1998-11-13 12:07:00'],\n",
       " [108, 'to', -1, '1998-11-13 12:07:00'],\n",
       " [67, 'from', -2, '1998-11-19 15:19:00'],\n",
       " [73, 'to', -2, '1998-11-19 15:19:00'],\n",
       " [73, 'cc', -3, '1998-11-19 16:24:00'],\n",
       " [67, 'from', -3, '1998-11-19 16:24:00'],\n",
       " [108, 'cc', -4, '1998-11-24 10:23:00'],\n",
       " [96, 'cc', -4, '1998-11-24 10:23:00'],\n",
       " [22, 'cc', -4, '1998-11-24 10:23:00'],\n",
       " [67, 'from', -4, '1998-11-24 10:23:00']]"
      ]
     },
     "execution_count": 9,
     "metadata": {},
     "output_type": "execute_result"
    }
   ],
   "source": [
    "A.get_IL()[0:10]"
   ]
  },
  {
   "cell_type": "markdown",
   "metadata": {},
   "source": [
    "# Stub-Labeled MCMC \n",
    "\n",
    "We can define a simple version of stub-labeled Markov Chain Monte Carlo in this space, which essentially amounts to swapping edges of the bipartite graph in such a way that edges can only be swapped if their roles agree. This MCMC algorithm preserves degree sequence and edge dimension sequence, including the `by_role` variants. "
   ]
  },
  {
   "cell_type": "markdown",
   "metadata": {},
   "source": [
    "# Check for preservation of node degrees and edge dimensions"
   ]
  },
  {
   "cell_type": "code",
   "execution_count": 10,
   "metadata": {},
   "outputs": [],
   "source": [
    "d0 = A.node_degrees(by_role = True)\n",
    "k0 = A.edge_dimensions(by_role = True)"
   ]
  },
  {
   "cell_type": "code",
   "execution_count": 11,
   "metadata": {},
   "outputs": [
    {
     "data": {
      "text/plain": [
       "[[96, 'from', -1, '1998-11-13 12:07:00'],\n",
       " [112, 'to', -1, '1998-11-13 12:07:00'],\n",
       " [114, 'from', -2, '1998-11-19 15:19:00'],\n",
       " [62, 'to', -2, '1998-11-19 15:19:00'],\n",
       " [67, 'cc', -3, '1998-11-19 16:24:00'],\n",
       " [8, 'from', -3, '1998-11-19 16:24:00'],\n",
       " [45, 'cc', -4, '1998-11-24 10:23:00'],\n",
       " [114, 'cc', -4, '1998-11-24 10:23:00'],\n",
       " [39, 'cc', -4, '1998-11-24 10:23:00'],\n",
       " [40, 'from', -4, '1998-11-24 10:23:00']]"
      ]
     },
     "execution_count": 11,
     "metadata": {},
     "output_type": "execute_result"
    }
   ],
   "source": [
    "A.stub_labeled_MCMC(n_steps = 100000)\n",
    "A.get_IL()[0:10] # not the same list as above"
   ]
  },
  {
   "cell_type": "code",
   "execution_count": 12,
   "metadata": {},
   "outputs": [],
   "source": [
    "d = A.node_degrees(by_role = True)\n",
    "k = A.edge_dimensions(by_role = True)"
   ]
  },
  {
   "cell_type": "code",
   "execution_count": 13,
   "metadata": {},
   "outputs": [
    {
     "data": {
      "text/plain": [
       "(True, True)"
      ]
     },
     "execution_count": 13,
     "metadata": {},
     "output_type": "execute_result"
    }
   ],
   "source": [
    "d0 == d, k0 == k # but the degree and dimension sequences are preserved"
   ]
  },
  {
   "cell_type": "markdown",
   "metadata": {},
   "source": [
    "# Output\n",
    "\n",
    "You can read out data from `A` either as a list of dicts (\"records\", suitable for output as json) or as an incidence list. "
   ]
  },
  {
   "cell_type": "code",
   "execution_count": 14,
   "metadata": {},
   "outputs": [
    {
     "data": {
      "text/plain": [
       "[{'cc': [],\n",
       "  'date': '1998-11-13 12:07:00',\n",
       "  'eid': -1,\n",
       "  'from': [96],\n",
       "  'to': [112]},\n",
       " {'cc': [],\n",
       "  'date': '1998-11-19 15:19:00',\n",
       "  'eid': -2,\n",
       "  'from': [114],\n",
       "  'to': [62]}]"
      ]
     },
     "execution_count": 14,
     "metadata": {},
     "output_type": "execute_result"
    }
   ],
   "source": [
    "A.get_records()[0:2]"
   ]
  },
  {
   "cell_type": "code",
   "execution_count": 15,
   "metadata": {},
   "outputs": [
    {
     "data": {
      "text/plain": [
       "[[96, 'from', -1, '1998-11-13 12:07:00'],\n",
       " [112, 'to', -1, '1998-11-13 12:07:00'],\n",
       " [114, 'from', -2, '1998-11-19 15:19:00'],\n",
       " [62, 'to', -2, '1998-11-19 15:19:00']]"
      ]
     },
     "execution_count": 15,
     "metadata": {},
     "output_type": "execute_result"
    }
   ],
   "source": [
    "A.get_IL()[0:4]"
   ]
  },
  {
   "cell_type": "markdown",
   "metadata": {},
   "source": [
    "# Observables\n",
    "\n",
    "For an annotated hypergraph null model to make sense we need observables on the hypergraph that take the node roles into account. \n",
    "\n",
    "Check: clustering coefficients will also change upon a shuffle, however it will differ from the non-annotated case.\n",
    "The clustering coefficients are only calculated on the simplified graph projection.\n",
    "\n",
    "One observable is the local role density around a node.\n",
    "For a focal node $i$, this is the sum of roles, over all neighbours of $i$, and over all edges. This can include the focal node, or not.\n",
    "We expect that this varies strongly across a graph. \n",
    "For example, in a an authorship graph, an author who is first author on a large number of papers will more likely be surrounded by authors who are middle or last authors."
   ]
  },
  {
   "cell_type": "code",
   "execution_count": 16,
   "metadata": {},
   "outputs": [],
   "source": [
    "from ahyper.observables import local_role_density"
   ]
  },
  {
   "cell_type": "code",
   "execution_count": 17,
   "metadata": {},
   "outputs": [
    {
     "data": {
      "text/html": [
       "<div>\n",
       "<style scoped>\n",
       "    .dataframe tbody tr th:only-of-type {\n",
       "        vertical-align: middle;\n",
       "    }\n",
       "\n",
       "    .dataframe tbody tr th {\n",
       "        vertical-align: top;\n",
       "    }\n",
       "\n",
       "    .dataframe thead th {\n",
       "        text-align: right;\n",
       "    }\n",
       "</style>\n",
       "<table border=\"1\" class=\"dataframe\">\n",
       "  <thead>\n",
       "    <tr style=\"text-align: right;\">\n",
       "      <th></th>\n",
       "      <th>cc</th>\n",
       "      <th>from</th>\n",
       "      <th>to</th>\n",
       "    </tr>\n",
       "  </thead>\n",
       "  <tbody>\n",
       "    <tr>\n",
       "      <th>0</th>\n",
       "      <td>0.094737</td>\n",
       "      <td>0.294737</td>\n",
       "      <td>0.610526</td>\n",
       "    </tr>\n",
       "    <tr>\n",
       "      <th>1</th>\n",
       "      <td>0.102941</td>\n",
       "      <td>0.235294</td>\n",
       "      <td>0.661765</td>\n",
       "    </tr>\n",
       "    <tr>\n",
       "      <th>2</th>\n",
       "      <td>0.354331</td>\n",
       "      <td>0.145669</td>\n",
       "      <td>0.500000</td>\n",
       "    </tr>\n",
       "    <tr>\n",
       "      <th>3</th>\n",
       "      <td>0.234742</td>\n",
       "      <td>0.530516</td>\n",
       "      <td>0.234742</td>\n",
       "    </tr>\n",
       "    <tr>\n",
       "      <th>4</th>\n",
       "      <td>0.086957</td>\n",
       "      <td>0.217391</td>\n",
       "      <td>0.695652</td>\n",
       "    </tr>\n",
       "  </tbody>\n",
       "</table>\n",
       "</div>"
      ],
      "text/plain": [
       "         cc      from        to\n",
       "0  0.094737  0.294737  0.610526\n",
       "1  0.102941  0.235294  0.661765\n",
       "2  0.354331  0.145669  0.500000\n",
       "3  0.234742  0.530516  0.234742\n",
       "4  0.086957  0.217391  0.695652"
      ]
     },
     "execution_count": 17,
     "metadata": {},
     "output_type": "execute_result"
    }
   ],
   "source": [
    "A = annotated_hypergraph.annotated_hypergraph(data, roles)\n",
    "\n",
    "densities = local_role_density(A, include_focus=False)\n",
    "densities.head()"
   ]
  },
  {
   "cell_type": "markdown",
   "metadata": {},
   "source": [
    "If we want to consider a single value, we can calculate the normalised entropy of the role density. \n",
    "Here a value of zero indicates only 1 role is present in the neighbourhood, and a value of one indicates all roles are equally prevalent."
   ]
  },
  {
   "cell_type": "code",
   "execution_count": 18,
   "metadata": {},
   "outputs": [
    {
     "data": {
      "text/plain": [
       "0.8012102776183179"
      ]
     },
     "execution_count": 18,
     "metadata": {},
     "output_type": "execute_result"
    }
   ],
   "source": [
    "def entropy(arr):\n",
    "    return -sum([x*np.log2(x)/np.log2(len(arr)) for x in arr if x>0])\n",
    "\n",
    "densities.apply(entropy, axis=1).mean()"
   ]
  },
  {
   "cell_type": "code",
   "execution_count": 19,
   "metadata": {},
   "outputs": [],
   "source": [
    "# Perform a stub shuffle\n",
    "A.stub_labeled_MCMC(n_steps = 100000)"
   ]
  },
  {
   "cell_type": "code",
   "execution_count": 20,
   "metadata": {},
   "outputs": [
    {
     "data": {
      "text/html": [
       "<div>\n",
       "<style scoped>\n",
       "    .dataframe tbody tr th:only-of-type {\n",
       "        vertical-align: middle;\n",
       "    }\n",
       "\n",
       "    .dataframe tbody tr th {\n",
       "        vertical-align: top;\n",
       "    }\n",
       "\n",
       "    .dataframe thead th {\n",
       "        text-align: right;\n",
       "    }\n",
       "</style>\n",
       "<table border=\"1\" class=\"dataframe\">\n",
       "  <thead>\n",
       "    <tr style=\"text-align: right;\">\n",
       "      <th></th>\n",
       "      <th>cc</th>\n",
       "      <th>from</th>\n",
       "      <th>to</th>\n",
       "    </tr>\n",
       "  </thead>\n",
       "  <tbody>\n",
       "    <tr>\n",
       "      <th>0</th>\n",
       "      <td>0.097826</td>\n",
       "      <td>0.304348</td>\n",
       "      <td>0.597826</td>\n",
       "    </tr>\n",
       "    <tr>\n",
       "      <th>1</th>\n",
       "      <td>0.000000</td>\n",
       "      <td>0.571429</td>\n",
       "      <td>0.428571</td>\n",
       "    </tr>\n",
       "    <tr>\n",
       "      <th>2</th>\n",
       "      <td>0.252336</td>\n",
       "      <td>0.345794</td>\n",
       "      <td>0.401869</td>\n",
       "    </tr>\n",
       "    <tr>\n",
       "      <th>3</th>\n",
       "      <td>0.218069</td>\n",
       "      <td>0.352025</td>\n",
       "      <td>0.429907</td>\n",
       "    </tr>\n",
       "    <tr>\n",
       "      <th>4</th>\n",
       "      <td>0.258065</td>\n",
       "      <td>0.161290</td>\n",
       "      <td>0.580645</td>\n",
       "    </tr>\n",
       "  </tbody>\n",
       "</table>\n",
       "</div>"
      ],
      "text/plain": [
       "         cc      from        to\n",
       "0  0.097826  0.304348  0.597826\n",
       "1  0.000000  0.571429  0.428571\n",
       "2  0.252336  0.345794  0.401869\n",
       "3  0.218069  0.352025  0.429907\n",
       "4  0.258065  0.161290  0.580645"
      ]
     },
     "execution_count": 20,
     "metadata": {},
     "output_type": "execute_result"
    }
   ],
   "source": [
    "densities = local_role_density(A, include_focus=False)\n",
    "densities.head()"
   ]
  },
  {
   "cell_type": "code",
   "execution_count": 33,
   "metadata": {},
   "outputs": [
    {
     "data": {
      "text/plain": [
       "0.8574269985217116"
      ]
     },
     "execution_count": 33,
     "metadata": {},
     "output_type": "execute_result"
    }
   ],
   "source": [
    "densities.apply(entropy, axis=1).mean()"
   ]
  },
  {
   "cell_type": "markdown",
   "metadata": {},
   "source": [
    "# Next?\n",
    "\n",
    "Possible next steps for this software include refactoring the internals under pandas and implementation of alternative MCMC schemes, possibly including vertex-labeled ones. "
   ]
  }
 ],
 "metadata": {
  "kernelspec": {
   "display_name": "Python 3",
   "language": "python",
   "name": "python3"
  },
  "language_info": {
   "codemirror_mode": {
    "name": "ipython",
    "version": 3
   },
   "file_extension": ".py",
   "mimetype": "text/x-python",
   "name": "python",
   "nbconvert_exporter": "python",
   "pygments_lexer": "ipython3",
   "version": "3.5.2"
  }
 },
 "nbformat": 4,
 "nbformat_minor": 4
}
