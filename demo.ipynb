{
 "cells": [
  {
   "cell_type": "code",
   "execution_count": 2,
   "metadata": {
    "collapsed": true
   },
   "outputs": [],
   "source": [
    "import numpy as np\n",
    "import json\n",
    "\n",
    "from ahyper import utils, annotated_hypergraph"
   ]
  },
  {
   "cell_type": "code",
   "execution_count": 3,
   "metadata": {
    "collapsed": true
   },
   "outputs": [],
   "source": [
    "with open('data/enron_hypergraph_annotated.json') as file:\n",
    "    data = json.load(file)\n",
    "\n",
    "roles = ['cc', 'from', 'to']"
   ]
  },
  {
   "cell_type": "code",
   "execution_count": 4,
   "metadata": {},
   "outputs": [
    {
     "data": {
      "text/plain": [
       "[{'date': '1998-11-13 12:07:00', 'from': [67], 'to': [108], 'cc': []},\n",
       " {'date': '1998-11-19 15:19:00', 'from': [67], 'to': [73], 'cc': []}]"
      ]
     },
     "execution_count": 4,
     "metadata": {},
     "output_type": "execute_result"
    }
   ],
   "source": [
    "data[0:2]"
   ]
  },
  {
   "cell_type": "markdown",
   "metadata": {},
   "source": [
    "# Construct an Annotated Hypergraph"
   ]
  },
  {
   "cell_type": "code",
   "execution_count": 5,
   "metadata": {
    "collapsed": true
   },
   "outputs": [],
   "source": [
    "A = annotated_hypergraph.AnnotatedHypergraph.from_records(data, roles)"
   ]
  },
  {
   "cell_type": "markdown",
   "metadata": {},
   "source": [
    "First, `A` stores lists of the node and edge ids. Nodes are numbered from $0$ to $n-1$. Edges are numbered from $-1$ to $-m$. "
   ]
  },
  {
   "cell_type": "code",
   "execution_count": 6,
   "metadata": {},
   "outputs": [
    {
     "data": {
      "text/plain": [
       "array([ 0,  1,  2,  3,  4,  5,  6,  7,  8, 10])"
      ]
     },
     "execution_count": 6,
     "metadata": {},
     "output_type": "execute_result"
    }
   ],
   "source": [
    "A.get_node_list()[0:10]"
   ]
  },
  {
   "cell_type": "code",
   "execution_count": 7,
   "metadata": {},
   "outputs": [
    {
     "data": {
      "text/plain": [
       "array([-10504, -10503, -10502, -10501, -10500, -10499, -10498, -10497,\n",
       "       -10496, -10495])"
      ]
     },
     "execution_count": 7,
     "metadata": {},
     "output_type": "execute_result"
    }
   ],
   "source": [
    "A.get_edge_list()[0:10]"
   ]
  },
  {
   "cell_type": "markdown",
   "metadata": {},
   "source": [
    "We can also get the node degree sequence, optionally broken down by role: "
   ]
  },
  {
   "cell_type": "code",
   "execution_count": 8,
   "metadata": {},
   "outputs": [
    {
     "data": {
      "text/plain": [
       "{'cc': 0, 'from': 12, 'to': 5}"
      ]
     },
     "execution_count": 8,
     "metadata": {},
     "output_type": "execute_result"
    }
   ],
   "source": [
    "# degree sequence\n",
    "A.node_degrees() # get all node degrees (totals)\n",
    "A.node_degrees(by_role = True)[4] # get the role-degrees of node 4 "
   ]
  },
  {
   "cell_type": "markdown",
   "metadata": {},
   "source": [
    "Similarly, we can get the edge dimension sequence, again optionally broken down by role: "
   ]
  },
  {
   "cell_type": "code",
   "execution_count": 9,
   "metadata": {},
   "outputs": [
    {
     "data": {
      "text/plain": [
       "{'cc': 2, 'from': 1, 'to': 0}"
      ]
     },
     "execution_count": 9,
     "metadata": {},
     "output_type": "execute_result"
    }
   ],
   "source": [
    "# edge dimension sequence\n",
    "\n",
    "A.edge_dimensions() # get all edge dimensions (totals)\n",
    "A.edge_dimensions(by_role = True)[-5] # get the role-dimensions of edge -5"
   ]
  },
  {
   "cell_type": "markdown",
   "metadata": {},
   "source": [
    "Internally, `A` is representing the data as an annotated node-edge incidence list. It's convenient to think of this as the edge-list of the bipartite graph in which each edge is labeled with a name and a role. It is possible to access the list directly: "
   ]
  },
  {
   "cell_type": "code",
   "execution_count": 10,
   "metadata": {},
   "outputs": [
    {
     "data": {
      "text/plain": [
       "[NodeEdgeIncidence(nid=67, role='from', eid=-1, meta={'date': '1998-11-13 12:07:00'}),\n",
       " NodeEdgeIncidence(nid=108, role='to', eid=-1, meta={'date': '1998-11-13 12:07:00'}),\n",
       " NodeEdgeIncidence(nid=67, role='from', eid=-2, meta={'date': '1998-11-19 15:19:00'}),\n",
       " NodeEdgeIncidence(nid=73, role='to', eid=-2, meta={'date': '1998-11-19 15:19:00'}),\n",
       " NodeEdgeIncidence(nid=73, role='cc', eid=-3, meta={'date': '1998-11-19 16:24:00'}),\n",
       " NodeEdgeIncidence(nid=67, role='from', eid=-3, meta={'date': '1998-11-19 16:24:00'}),\n",
       " NodeEdgeIncidence(nid=108, role='cc', eid=-4, meta={'date': '1998-11-24 10:23:00'}),\n",
       " NodeEdgeIncidence(nid=96, role='cc', eid=-4, meta={'date': '1998-11-24 10:23:00'}),\n",
       " NodeEdgeIncidence(nid=22, role='cc', eid=-4, meta={'date': '1998-11-24 10:23:00'}),\n",
       " NodeEdgeIncidence(nid=67, role='from', eid=-4, meta={'date': '1998-11-24 10:23:00'})]"
      ]
     },
     "execution_count": 10,
     "metadata": {},
     "output_type": "execute_result"
    }
   ],
   "source": [
    "A.get_IL()[0:10]"
   ]
  },
  {
   "cell_type": "markdown",
   "metadata": {},
   "source": [
    "# Stub-Labeled MCMC \n",
    "\n",
    "We can define a simple version of stub-labeled Markov Chain Monte Carlo in this space, which essentially amounts to swapping edges of the bipartite graph in such a way that edges can only be swapped if their roles agree. This MCMC algorithm preserves degree sequence and edge dimension sequence, including the `by_role` variants. "
   ]
  },
  {
   "cell_type": "markdown",
   "metadata": {},
   "source": [
    "# Check for preservation of node degrees and edge dimensions"
   ]
  },
  {
   "cell_type": "code",
   "execution_count": 11,
   "metadata": {
    "collapsed": true
   },
   "outputs": [],
   "source": [
    "d0 = A.node_degrees(by_role = True)\n",
    "k0 = A.edge_dimensions(by_role = True)"
   ]
  },
  {
   "cell_type": "code",
   "execution_count": 12,
   "metadata": {},
   "outputs": [
    {
     "data": {
      "text/plain": [
       "[NodeEdgeIncidence(nid=73, role='from', eid=-1, meta={'date': '1998-11-13 12:07:00'}),\n",
       " NodeEdgeIncidence(nid=86, role='to', eid=-1, meta={'date': '1998-11-13 12:07:00'}),\n",
       " NodeEdgeIncidence(nid=96, role='from', eid=-2, meta={'date': '1998-11-19 15:19:00'}),\n",
       " NodeEdgeIncidence(nid=87, role='to', eid=-2, meta={'date': '1998-11-19 15:19:00'}),\n",
       " NodeEdgeIncidence(nid=41, role='cc', eid=-3, meta={'date': '1998-11-19 16:24:00'}),\n",
       " NodeEdgeIncidence(nid=108, role='from', eid=-3, meta={'date': '1998-11-19 16:24:00'}),\n",
       " NodeEdgeIncidence(nid=60, role='cc', eid=-4, meta={'date': '1998-11-24 10:23:00'}),\n",
       " NodeEdgeIncidence(nid=101, role='cc', eid=-4, meta={'date': '1998-11-24 10:23:00'}),\n",
       " NodeEdgeIncidence(nid=87, role='cc', eid=-4, meta={'date': '1998-11-24 10:23:00'}),\n",
       " NodeEdgeIncidence(nid=36, role='from', eid=-4, meta={'date': '1998-11-24 10:23:00'})]"
      ]
     },
     "execution_count": 12,
     "metadata": {},
     "output_type": "execute_result"
    }
   ],
   "source": [
    "A.stub_labeled_MCMC(n_steps = 100000)\n",
    "A.get_IL()[0:10] # not the same list as above"
   ]
  },
  {
   "cell_type": "code",
   "execution_count": 13,
   "metadata": {
    "collapsed": true
   },
   "outputs": [],
   "source": [
    "d = A.node_degrees(by_role = True)\n",
    "k = A.edge_dimensions(by_role = True)"
   ]
  },
  {
   "cell_type": "code",
   "execution_count": 14,
   "metadata": {},
   "outputs": [
    {
     "data": {
      "text/plain": [
       "(True, True)"
      ]
     },
     "execution_count": 14,
     "metadata": {},
     "output_type": "execute_result"
    }
   ],
   "source": [
    "d0 == d, k0 == k # but the degree and dimension sequences are preserved"
   ]
  },
  {
   "cell_type": "markdown",
   "metadata": {},
   "source": [
    "# Output\n",
    "\n",
    "You can read out data from `A` either as a list of dicts (\"records\", suitable for output as json) or as an incidence list. "
   ]
  },
  {
   "cell_type": "code",
   "execution_count": 15,
   "metadata": {},
   "outputs": [
    {
     "data": {
      "text/plain": [
       "[{'cc': [],\n",
       "  'from': [73],\n",
       "  'to': [86],\n",
       "  'eid': -1,\n",
       "  'date': '1998-11-13 12:07:00'},\n",
       " {'cc': [],\n",
       "  'from': [96],\n",
       "  'to': [87],\n",
       "  'eid': -2,\n",
       "  'date': '1998-11-19 15:19:00'}]"
      ]
     },
     "execution_count": 15,
     "metadata": {},
     "output_type": "execute_result"
    }
   ],
   "source": [
    "A.get_records()[0:2]"
   ]
  },
  {
   "cell_type": "code",
   "execution_count": 16,
   "metadata": {},
   "outputs": [
    {
     "data": {
      "text/plain": [
       "[NodeEdgeIncidence(nid=73, role='from', eid=-1, meta={'date': '1998-11-13 12:07:00'}),\n",
       " NodeEdgeIncidence(nid=86, role='to', eid=-1, meta={'date': '1998-11-13 12:07:00'}),\n",
       " NodeEdgeIncidence(nid=96, role='from', eid=-2, meta={'date': '1998-11-19 15:19:00'}),\n",
       " NodeEdgeIncidence(nid=87, role='to', eid=-2, meta={'date': '1998-11-19 15:19:00'})]"
      ]
     },
     "execution_count": 16,
     "metadata": {},
     "output_type": "execute_result"
    }
   ],
   "source": [
    "A.get_IL()[0:4]"
   ]
  },
  {
   "cell_type": "markdown",
   "metadata": {},
   "source": [
    "# Observables\n",
    "\n",
    "For an annotated hypergraph null model to make sense we need observables on the hypergraph that take the node roles into account. \n",
    "\n",
    "Check: clustering coefficients will also change upon a shuffle, however it will differ from the non-annotated case.\n",
    "The clustering coefficients are only calculated on the simplified graph projection.\n",
    "\n",
    "One observable is the local role density around a node.\n",
    "For a focal node $i$, this is the sum of roles, over all neighbours of $i$, and over all edges. This can include the focal node, or not.\n",
    "We expect that this varies strongly across a graph. \n",
    "For example, in a an authorship graph, an author who is first author on a large number of papers will more likely be surrounded by authors who are middle or last authors."
   ]
  },
  {
   "cell_type": "code",
   "execution_count": 17,
   "metadata": {
    "collapsed": true
   },
   "outputs": [],
   "source": [
    "from ahyper.observables import local_role_density"
   ]
  },
  {
   "cell_type": "code",
   "execution_count": 19,
   "metadata": {},
   "outputs": [
    {
     "data": {
      "text/plain": [
       "{73: Counter({'from': 0.17114914425427874,\n",
       "          'cc': 0.15403422982885084,\n",
       "          'to': 0.6748166259168704}),\n",
       " 108: Counter({'cc': 0.13152866242038216,\n",
       "          'from': 0.13312101910828025,\n",
       "          'to': 0.7353503184713376}),\n",
       " 96: Counter({'cc': 0.11622708985248101,\n",
       "          'from': 0.24541797049620026,\n",
       "          'to': 0.6383549396513187}),\n",
       " 22: Counter({'cc': 0.08975175047740293,\n",
       "          'from': 0.2138765117759389,\n",
       "          'to': 0.6963717377466582}),\n",
       " 66: Counter({'cc': 0.2321291314373559,\n",
       "          'from': 0.2275172943889316,\n",
       "          'to': 0.5403535741737125}),\n",
       " 39: Counter({'cc': 0.08820882088208822,\n",
       "          'from': 0.355985598559856,\n",
       "          'to': 0.5558055805580558}),\n",
       " 15: Counter({'cc': 0.17428087986463622,\n",
       "          'from': 0.2182741116751269,\n",
       "          'to': 0.6074450084602369}),\n",
       " 100: Counter({'cc': 0.06228610540725531,\n",
       "          'from': 0.31759069130732376,\n",
       "          'to': 0.6201232032854209}),\n",
       " 64: Counter({'from': 0.41279887482419125,\n",
       "          'cc': 0.026019690576652602,\n",
       "          'to': 0.5611814345991561}),\n",
       " 106: Counter({'from': 1.0, 'to': 0.0, 'cc': 0.0}),\n",
       " 86: Counter({'cc': 0.0753667172483561,\n",
       "          'from': 0.2665655032878098,\n",
       "          'to': 0.6580677794638341}),\n",
       " 67: Counter({'from': 0.34885386819484243,\n",
       "          'to': 0.5376074498567335,\n",
       "          'cc': 0.11353868194842406}),\n",
       " 8: Counter({'from': 0.3339253996447602,\n",
       "          'to': 0.5281231497927767,\n",
       "          'cc': 0.137951450562463}),\n",
       " 7: Counter({'from': 0.4702549575070821,\n",
       "          'cc': 0.11048158640226628,\n",
       "          'to': 0.4192634560906516}),\n",
       " 61: Counter({'from': 0.5,\n",
       "          'cc': 0.21428571428571427,\n",
       "          'to': 0.2857142857142857}),\n",
       " 55: Counter({'from': 0.4991624790619765,\n",
       "          'to': 0.4338358458961474,\n",
       "          'cc': 0.06700167504187604}),\n",
       " 101: Counter({'cc': 0.2054794520547945,\n",
       "          'from': 0.18493150684931506,\n",
       "          'to': 0.6095890410958904}),\n",
       " 38: Counter({'cc': 0.2550607287449393,\n",
       "          'from': 0.23076923076923078,\n",
       "          'to': 0.5141700404858299}),\n",
       " 13: Counter({'cc': 0.26262626262626265,\n",
       "          'from': 0.2222222222222222,\n",
       "          'to': 0.5151515151515151}),\n",
       " 98: Counter({'cc': 0.36363636363636365,\n",
       "          'from': 0.5454545454545454,\n",
       "          'to': 0.09090909090909091}),\n",
       " 28: Counter({'cc': 0.23195876288659795,\n",
       "          'from': 0.2646048109965636,\n",
       "          'to': 0.5034364261168385}),\n",
       " 94: Counter({'cc': 0.32840909090909093,\n",
       "          'from': 0.08636363636363636,\n",
       "          'to': 0.5852272727272727}),\n",
       " 112: Counter({'from': 0.37351190476190477,\n",
       "          'cc': 0.1636904761904762,\n",
       "          'to': 0.46279761904761907}),\n",
       " 29: Counter({'from': 0.6, 'to': 0.4, 'cc': 0.0}),\n",
       " 68: Counter({'from': 0.8981481481481481,\n",
       "          'to': 0.07407407407407407,\n",
       "          'cc': 0.027777777777777776}),\n",
       " 114: Counter({'from': 0.39232303090727816,\n",
       "          'to': 0.17397806580259223,\n",
       "          'cc': 0.4336989032901296}),\n",
       " 97: Counter({'from': 0.1445945945945946,\n",
       "          'to': 0.6,\n",
       "          'cc': 0.2554054054054054}),\n",
       " 49: Counter({'from': 0.660377358490566,\n",
       "          'cc': 0.07169811320754717,\n",
       "          'to': 0.2679245283018868}),\n",
       " 105: Counter({'from': 0.6105476673427992,\n",
       "          'cc': 0.08924949290060852,\n",
       "          'to': 0.3002028397565923}),\n",
       " 12: Counter({'from': 0.12168141592920353,\n",
       "          'cc': 0.25442477876106195,\n",
       "          'to': 0.6238938053097345}),\n",
       " 35: Counter({'from': 0.26090828138913624,\n",
       "          'cc': 0.22439893143365983,\n",
       "          'to': 0.5146927871772039}),\n",
       " 102: Counter({'cc': 0.25900514579759865,\n",
       "          'from': 0.15265866209262435,\n",
       "          'to': 0.5883361921097771}),\n",
       " 19: Counter({'cc': 0.2704203013481364,\n",
       "          'from': 0.18636003172085647,\n",
       "          'to': 0.5432196669310071}),\n",
       " 57: Counter({'cc': 0.30579531442663377,\n",
       "          'from': 0.2120838471023428,\n",
       "          'to': 0.48212083847102344}),\n",
       " 87: Counter({'cc': 0.10181392627267408,\n",
       "          'from': 0.5383265067290813,\n",
       "          'to': 0.35985956699824456}),\n",
       " 17: Counter({'from': 0.2978723404255319,\n",
       "          'cc': 0.19148936170212766,\n",
       "          'to': 0.5106382978723404}),\n",
       " 80: Counter({'from': 0.27347611202635913,\n",
       "          'to': 0.4596375617792422,\n",
       "          'cc': 0.26688632619439867}),\n",
       " 84: Counter({'from': 0.44789356984478934,\n",
       "          'cc': 0.13082039911308205,\n",
       "          'to': 0.4212860310421286}),\n",
       " 63: Counter({'from': 0.1518324607329843,\n",
       "          'to': 0.5392670157068062,\n",
       "          'cc': 0.3089005235602094}),\n",
       " 33: Counter({'from': 0.23236514522821577,\n",
       "          'cc': 0.26141078838174275,\n",
       "          'to': 0.5062240663900415}),\n",
       " 45: Counter({'from': 0.2581699346405229,\n",
       "          'to': 0.492156862745098,\n",
       "          'cc': 0.2496732026143791}),\n",
       " 21: Counter({'from': 0.12244897959183673,\n",
       "          'cc': 0.24489795918367346,\n",
       "          'to': 0.6326530612244898}),\n",
       " 59: Counter({'from': 0.29261363636363635,\n",
       "          'to': 0.42045454545454547,\n",
       "          'cc': 0.2869318181818182}),\n",
       " 71: Counter({'from': 0.3888111888111888,\n",
       "          'cc': 0.14685314685314685,\n",
       "          'to': 0.4643356643356643}),\n",
       " 53: Counter({'cc': 0.353628023352794,\n",
       "          'from': 0.15846538782318598,\n",
       "          'to': 0.48790658882402}),\n",
       " 44: Counter({'from': 0.17527173913043478,\n",
       "          'to': 0.625,\n",
       "          'cc': 0.19972826086956522}),\n",
       " 40: Counter({'cc': 0.2688888888888889,\n",
       "          'from': 0.30444444444444446,\n",
       "          'to': 0.4266666666666667}),\n",
       " 31: Counter({'cc': 0.2541743970315399,\n",
       "          'from': 0.17996289424860853,\n",
       "          'to': 0.5658627087198516}),\n",
       " 99: Counter({'cc': 0.34101382488479265,\n",
       "          'from': 0.271889400921659,\n",
       "          'to': 0.3870967741935484}),\n",
       " 52: Counter({'cc': 0.2711864406779661,\n",
       "          'from': 0.3898305084745763,\n",
       "          'to': 0.3389830508474576}),\n",
       " 109: Counter({'from': 0.6666666666666666,\n",
       "          'cc': 0.1111111111111111,\n",
       "          'to': 0.2222222222222222}),\n",
       " 36: Counter({'from': 0.08054794520547945,\n",
       "          'cc': 0.16383561643835617,\n",
       "          'to': 0.7556164383561644}),\n",
       " 88: Counter({'from': 0.340625, 'cc': 0.240625, 'to': 0.41875}),\n",
       " 60: Counter({'cc': 0.30238095238095236,\n",
       "          'from': 0.18333333333333332,\n",
       "          'to': 0.5142857142857142}),\n",
       " 10: Counter({'cc': 0.20833333333333334,\n",
       "          'from': 0.42045454545454547,\n",
       "          'to': 0.3712121212121212}),\n",
       " 3: Counter({'from': 0.5305164319248826,\n",
       "          'cc': 0.2347417840375587,\n",
       "          'to': 0.2347417840375587}),\n",
       " 76: Counter({'cc': 0.043583535108958835,\n",
       "          'from': 0.21307506053268765,\n",
       "          'to': 0.7433414043583535}),\n",
       " 103: Counter({'cc': 0.04081632653061224,\n",
       "          'from': 0.2755102040816326,\n",
       "          'to': 0.6836734693877551}),\n",
       " 26: Counter({'cc': 0.03289473684210526,\n",
       "          'from': 0.3026315789473684,\n",
       "          'to': 0.6644736842105263}),\n",
       " 83: Counter({'cc': 0.18004866180048662,\n",
       "          'from': 0.16180048661800486,\n",
       "          'to': 0.6581508515815085}),\n",
       " 32: Counter({'cc': 0.21067415730337077,\n",
       "          'from': 0.42696629213483145,\n",
       "          'to': 0.36235955056179775}),\n",
       " 92: Counter({'cc': 0.24752475247524752,\n",
       "          'from': 0.44554455445544555,\n",
       "          'to': 0.3069306930693069}),\n",
       " 2: Counter({'cc': 0.3543307086614173,\n",
       "          'from': 0.14566929133858267,\n",
       "          'to': 0.5}),\n",
       " 54: Counter({'from': 0.12658227848101267,\n",
       "          'cc': 0.17974683544303796,\n",
       "          'to': 0.6936708860759494}),\n",
       " 23: Counter({'cc': 0.13258785942492013,\n",
       "          'from': 0.2476038338658147,\n",
       "          'to': 0.6198083067092651}),\n",
       " 41: Counter({'cc': 0.2525597269624573,\n",
       "          'from': 0.16382252559726962,\n",
       "          'to': 0.5836177474402731}),\n",
       " 72: Counter({'cc': 0.15140845070422534,\n",
       "          'from': 0.4753521126760563,\n",
       "          'to': 0.3732394366197183}),\n",
       " 78: Counter({'from': 0.20811287477954143,\n",
       "          'cc': 0.25925925925925924,\n",
       "          'to': 0.5326278659611993}),\n",
       " 107: Counter({'cc': 0.3,\n",
       "          'from': 0.21176470588235294,\n",
       "          'to': 0.48823529411764705}),\n",
       " 93: Counter({'from': 0.3620689655172414,\n",
       "          'to': 0.3390804597701149,\n",
       "          'cc': 0.2988505747126437}),\n",
       " 56: Counter({'cc': 0.20812182741116753,\n",
       "          'from': 0.25888324873096447,\n",
       "          'to': 0.5329949238578681}),\n",
       " 34: Counter({'from': 0.18686868686868688,\n",
       "          'to': 0.7474747474747475,\n",
       "          'cc': 0.06565656565656566}),\n",
       " 5: Counter({'cc': 0.39285714285714285,\n",
       "          'from': 0.07142857142857142,\n",
       "          'to': 0.5357142857142857}),\n",
       " 104: Counter({'from': 0.3924050632911392,\n",
       "          'cc': 0.11392405063291139,\n",
       "          'to': 0.4936708860759494}),\n",
       " 110: Counter({'from': 0.2911392405063291,\n",
       "          'cc': 0.05485232067510549,\n",
       "          'to': 0.6540084388185654}),\n",
       " 74: Counter({'from': 0.7272727272727273,\n",
       "          'cc': 0.13636363636363635,\n",
       "          'to': 0.13636363636363635}),\n",
       " 50: Counter({'from': 0.20408163265306123,\n",
       "          'to': 0.47959183673469385,\n",
       "          'cc': 0.3163265306122449}),\n",
       " 111: Counter({'from': 0.13333333333333333,\n",
       "          'cc': 0.43333333333333335,\n",
       "          'to': 0.43333333333333335}),\n",
       " 27: Counter({'cc': 0.19293478260869565,\n",
       "          'from': 0.11413043478260869,\n",
       "          'to': 0.6929347826086957}),\n",
       " 79: Counter({'from': 0.3888888888888889,\n",
       "          'to': 0.5,\n",
       "          'cc': 0.1111111111111111}),\n",
       " 69: Counter({'from': 0.48148148148148145,\n",
       "          'cc': 0.14814814814814814,\n",
       "          'to': 0.37037037037037035}),\n",
       " 20: Counter({'from': 0.17095310136157338,\n",
       "          'cc': 0.14826021180030258,\n",
       "          'to': 0.680786686838124}),\n",
       " 113: Counter({'cc': 0.08333333333333333,\n",
       "          'from': 0.5833333333333334,\n",
       "          'to': 0.3333333333333333}),\n",
       " 62: Counter({'cc': 0.08450704225352113,\n",
       "          'from': 0.23943661971830985,\n",
       "          'to': 0.676056338028169}),\n",
       " 77: Counter({'cc': 0.010309278350515464,\n",
       "          'from': 0.5257731958762887,\n",
       "          'to': 0.4639175257731959}),\n",
       " 95: Counter({'from': 0.256, 'cc': 0.064, 'to': 0.68}),\n",
       " 46: Counter({'from': 0.8520408163265306,\n",
       "          'cc': 0.04591836734693878,\n",
       "          'to': 0.10204081632653061}),\n",
       " 85: Counter({'from': 0.21739130434782608,\n",
       "          'to': 0.7577639751552795,\n",
       "          'cc': 0.024844720496894408}),\n",
       " 48: Counter({'from': 0.17391304347826086,\n",
       "          'cc': 0.043478260869565216,\n",
       "          'to': 0.782608695652174}),\n",
       " 18: Counter({'from': 0.33076923076923076,\n",
       "          'to': 0.6384615384615384,\n",
       "          'cc': 0.03076923076923077}),\n",
       " 42: Counter({'cc': 0.31666666666666665,\n",
       "          'from': 0.23333333333333334,\n",
       "          'to': 0.45}),\n",
       " 89: Counter({'from': 0.8947368421052632,\n",
       "          'cc': 0.10526315789473684,\n",
       "          'to': 0.0}),\n",
       " 25: Counter({'cc': 0.18081180811808117,\n",
       "          'from': 0.14391143911439114,\n",
       "          'to': 0.6752767527675276}),\n",
       " 24: Counter({'cc': 0.16346153846153846,\n",
       "          'from': 0.3942307692307692,\n",
       "          'to': 0.4423076923076923}),\n",
       " 0: Counter({'from': 0.29473684210526313,\n",
       "          'cc': 0.09473684210526316,\n",
       "          'to': 0.6105263157894737}),\n",
       " 82: Counter({'cc': 0.08130081300813008,\n",
       "          'from': 0.21951219512195122,\n",
       "          'to': 0.6991869918699187}),\n",
       " 6: Counter({'cc': 0.06504065040650407,\n",
       "          'from': 0.22764227642276422,\n",
       "          'to': 0.7073170731707317}),\n",
       " 11: Counter({'to': 0.5882352941176471,\n",
       "          'cc': 0.20588235294117646,\n",
       "          'from': 0.20588235294117646}),\n",
       " 75: Counter({'to': 0.7586206896551724,\n",
       "          'cc': 0.1724137931034483,\n",
       "          'from': 0.06896551724137931}),\n",
       " 58: Counter({'to': 0.39473684210526316,\n",
       "          'from': 0.5,\n",
       "          'cc': 0.10526315789473684}),\n",
       " 4: Counter({'to': 0.6956521739130435,\n",
       "          'cc': 0.08695652173913043,\n",
       "          'from': 0.21739130434782608}),\n",
       " 1: Counter({'cc': 0.10294117647058823,\n",
       "          'to': 0.6617647058823529,\n",
       "          'from': 0.23529411764705882}),\n",
       " 47: Counter({'to': 1.0, 'from': 0.0, 'cc': 0.0}),\n",
       " 91: Counter({'to': 0.7346938775510204,\n",
       "          'cc': 0.12244897959183673,\n",
       "          'from': 0.14285714285714285}),\n",
       " 16: Counter({'to': 0.5178571428571429,\n",
       "          'cc': 0.2767857142857143,\n",
       "          'from': 0.20535714285714285}),\n",
       " 51: Counter({'to': 0.5, 'from': 0.5, 'cc': 0.0}),\n",
       " 43: Counter({'to': 0.3333333333333333,\n",
       "          'from': 0.6666666666666666,\n",
       "          'cc': 0.0}),\n",
       " 70: Counter({'to': 0.5833333333333334,\n",
       "          'cc': 0.041666666666666664,\n",
       "          'from': 0.375}),\n",
       " 37: Counter({'to': 0.36363636363636365,\n",
       "          'from': 0.6363636363636364,\n",
       "          'cc': 0.0}),\n",
       " 30: Counter({'cc': 0.3235294117647059,\n",
       "          'from': 0.47058823529411764,\n",
       "          'to': 0.20588235294117646}),\n",
       " 14: Counter({'from': 0.5, 'to': 0.5, 'cc': 0.0}),\n",
       " 90: Counter({'from': 0.1, 'to': 0.65, 'cc': 0.25})}"
      ]
     },
     "execution_count": 19,
     "metadata": {},
     "output_type": "execute_result"
    }
   ],
   "source": [
    "A = annotated_hypergraph.AnnotatedHypergraph.from_records(data, roles)\n",
    "\n",
    "densities = local_role_density(A, include_focus=False)\n",
    "densities"
   ]
  },
  {
   "cell_type": "markdown",
   "metadata": {},
   "source": [
    "If we want to consider a single value, we can calculate the normalised entropy of the role density. \n",
    "Here a value of zero indicates only 1 role is present in the neighbourhood, and a value of one indicates all roles are equally prevalent."
   ]
  },
  {
   "cell_type": "code",
   "execution_count": 23,
   "metadata": {},
   "outputs": [
    {
     "data": {
      "text/plain": [
       "{73: 0.7788592250999151,\n",
       " 108: 0.6929658141041598,\n",
       " 96: 0.8023202419191466,\n",
       " 22: 0.7265859533990632,\n",
       " 66: 0.9179455860929882,\n",
       " 39: 0.826775179307021,\n",
       " 15: 0.8551745939624713,\n",
       " 100: 0.75868357235704,\n",
       " 64: 0.7139791628071661,\n",
       " 106: -0.0,\n",
       " 86: 0.7488125692975123,\n",
       " 67: 0.8629507941737385,\n",
       " 8: 0.8890224608713345,\n",
       " 7: 0.8762198233246863,\n",
       " 61: 0.9417346261113357,\n",
       " 55: 0.8103218117102273,\n",
       " 101: 0.8547172088523843,\n",
       " 38: 0.936535739891787,\n",
       " 13: 0.9348829324907597,\n",
       " 98: 0.8342022886441014,\n",
       " 28: 0.9432274696214136,\n",
       " 94: 0.8107876037764034,\n",
       " 112: 0.9290352348139592,\n",
       " 29: 0.6126016192893442,\n",
       " 68: 0.35391313447815115,\n",
       " 114: 0.9408744932171064,\n",
       " 97: 0.8508180238264438,\n",
       " 49: 0.7426049218212603,\n",
       " 105: 0.7993101864710466,\n",
       " 12: 0.818200410042982,\n",
       " 35: 0.9354802540667478,\n",
       " 102: 0.8637337992885298,\n",
       " 19: 0.9086405396654728,\n",
       " 57: 0.949332774520772,\n",
       " 87: 0.8499600539234948,\n",
       " 17: 0.9288666244136675,\n",
       " 80: 0.9688548986965739,\n",
       " 84: 0.9011417031105792,\n",
       " 63: 0.8939447564374572,\n",
       " 33: 0.9416191048131097,\n",
       " 45: 0.9511664056957092,\n",
       " 21: 0.8113418211369021,\n",
       " 59: 0.9849887424555588,\n",
       " 71: 0.9149911871268375,\n",
       " 53: 0.9190364750611993,\n",
       " 44: 0.838053040908413,\n",
       " 40: 0.9818330977192933,\n",
       " 31: 0.8911178685169617,\n",
       " 99: 0.9906657353516886,\n",
       " 52: 0.9901902772726059,\n",
       " 109: 0.7725068857142602,\n",
       " 36: 0.6471739076387357,\n",
       " 88: 0.977717106049028,\n",
       " 60: 0.9235938777568293,\n",
       " 10: 0.963897045635846,\n",
       " 3: 0.925444526069557,\n",
       " 76: 0.6248456539630852,\n",
       " 103: 0.6787750006718741,\n",
       " 26: 0.6787149279143516,\n",
       " 83: 0.7998443992345821,\n",
       " 32: 0.964235058190017,\n",
       " 92: 0.9724406603048764,\n",
       " 2: 0.9055242976109436,\n",
       " 54: 0.7498789357087218,\n",
       " 23: 0.8283301967016408,\n",
       " 41: 0.8721758207956711,\n",
       " 72: 0.9167789736745988,\n",
       " 78: 0.9213168380518127,\n",
       " 107: 0.9466068968345207,\n",
       " 93: 0.99717623659783,\n",
       " 56: 0.9210777075014309,\n",
       " 34: 0.6460912562020693,\n",
       " 5: 0.8100423976258608,\n",
       " 104: 0.8765817095297206,\n",
       " 110: 0.7247411900366323,\n",
       " 74: 0.7054288090986285,\n",
       " 50: 0.9474069582715273,\n",
       " 111: 0.904233489793909,\n",
       " 27: 0.7458023386071514,\n",
       " 79: 0.8720094340562979,\n",
       " 69: 0.9126741287180812,\n",
       " 20: 0.7707264602885908,\n",
       " 113: 0.808014151084447,\n",
       " 62: 0.7425172529328807,\n",
       " 77: 0.6749287386441435,\n",
       " 95: 0.7163566630578609,\n",
       " 46: 0.46494573803560835,\n",
       " 85: 0.576860863025612,\n",
       " 48: 0.5756075000760149,\n",
       " 18: 0.6913541796967992,\n",
       " 42: 0.9676136551284846,\n",
       " 89: 0.30629163814603144,\n",
       " 25: 0.7767603212278538,\n",
       " 24: 0.9319280190902294,\n",
       " 0: 0.8051867220055193,\n",
       " 82: 0.7164349528749178,\n",
       " 6: 0.6913926351592719,\n",
       " 11: 0.8764765871611777,\n",
       " 75: 0.6345045748873643,\n",
       " 58: 0.8651585032119987,\n",
       " 4: 0.7250832502304525,\n",
       " 1: 0.7716140934670992,\n",
       " 47: -0.0,\n",
       " 91: 0.6932787835737908,\n",
       " 16: 0.9297135402406747,\n",
       " 51: 0.6309297535714575,\n",
       " 43: 0.579380164285695,\n",
       " 70: 0.7415213841201925,\n",
       " 37: 0.5966452229439912,\n",
       " 30: 0.951377200328472,\n",
       " 14: 0.6309297535714575,\n",
       " 90: 0.7799302846668994}"
      ]
     },
     "execution_count": 23,
     "metadata": {},
     "output_type": "execute_result"
    }
   ],
   "source": [
    "def entropy(arr):\n",
    "    return -sum([x*np.log2(x)/np.log2(len(arr)) for x in arr if x>0])\n",
    "\n",
    "entropies = {key:entropy(list(v.values())) for key, v in densities.items()}\n",
    "entropies"
   ]
  },
  {
   "cell_type": "code",
   "execution_count": null,
   "metadata": {
    "collapsed": true
   },
   "outputs": [],
   "source": [
    "# Perform a stub shuffle\n",
    "A.stub_labeled_MCMC(n_steps = 100000)"
   ]
  },
  {
   "cell_type": "code",
   "execution_count": null,
   "metadata": {
    "collapsed": true
   },
   "outputs": [],
   "source": [
    "densities = local_role_density(A, include_focus=False)\n",
    "densities"
   ]
  },
  {
   "cell_type": "code",
   "execution_count": null,
   "metadata": {
    "collapsed": true
   },
   "outputs": [],
   "source": [
    "densities.apply(entropy, axis=1).mean()"
   ]
  },
  {
   "cell_type": "markdown",
   "metadata": {},
   "source": [
    "# Next?\n",
    "\n",
    "Possible next steps for this software include refactoring the internals under pandas and implementation of alternative MCMC schemes, possibly including vertex-labeled ones. "
   ]
  }
 ],
 "metadata": {
  "kernelspec": {
   "display_name": "Python [default]",
   "language": "python",
   "name": "python3"
  },
  "language_info": {
   "codemirror_mode": {
    "name": "ipython",
    "version": 3
   },
   "file_extension": ".py",
   "mimetype": "text/x-python",
   "name": "python",
   "nbconvert_exporter": "python",
   "pygments_lexer": "ipython3",
   "version": "3.6.7"
  }
 },
 "nbformat": 4,
 "nbformat_minor": 4
}
