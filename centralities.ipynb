{
 "cells": [
  {
   "cell_type": "code",
   "execution_count": 1,
   "metadata": {},
   "outputs": [],
   "source": [
    "import numpy as np\n",
    "import json\n",
    "\n",
    "from ahyper import utils, annotated_hypergraph, observables\n",
    "from matplotlib import pyplot as plt\n",
    "\n",
    "import pandas as pd\n",
    "\n",
    "import numpy as np\n",
    "import networkx as nx"
   ]
  },
  {
   "cell_type": "code",
   "execution_count": 2,
   "metadata": {},
   "outputs": [
    {
     "name": "stdout",
     "output_type": "stream",
     "text": [
      "Removed 1246 node-edge incidences\n",
      "Removed 901 singletons.\n"
     ]
    }
   ],
   "source": [
    "with open('data/enron_hypergraph_annotated.json') as file:\n",
    "    data = json.load(file)\n",
    "\n",
    "roles = ['cc', 'from', 'to']\n",
    "\n",
    "A = annotated_hypergraph.AnnotatedHypergraph.from_records(data, roles)\n",
    "A.remove_degeneracies(precedence = {'from' : 1, 'to' : 2, 'cc' : 3})\n",
    "A.remove_singletons()"
   ]
  },
  {
   "cell_type": "code",
   "execution_count": 3,
   "metadata": {},
   "outputs": [],
   "source": [
    "R = np.array([[0.0, 0.0, 0.0], \n",
    "              [0.25, 0.0, 1.0], \n",
    "              [0.0, 0.0, 0.0]])\n",
    "\n",
    "R1 = np.ones((3,3))"
   ]
  },
  {
   "cell_type": "code",
   "execution_count": 42,
   "metadata": {},
   "outputs": [
    {
     "data": {
      "image/png": "[encoded data removed]",
      "text/plain": [
       "<Figure size 576x252 with 2 Axes>"
      ]
     },
     "metadata": {
      "needs_background": "light"
     },
     "output_type": "display_data"
    }
   ],
   "source": [
    "fig = plt.figure(figsize = (8, 3.5))\n",
    "\n",
    "A.assign_role_interaction_matrix(R)\n",
    "PR = observables.pagerank_centrality(A, weight = 'weight')\n",
    "pr = [PR[i] for i in range(A.n)]\n",
    "\n",
    "EIG = observables.eigenvector_centrality(A, weight = 'weight')\n",
    "eig = [EIG[i] for i in range(A.n)]\n",
    "\n",
    "A.assign_role_interaction_matrix(R1)\n",
    "PR1 = observables.pagerank_centrality(A, weight = 'weight')\n",
    "pr1 = [PR1[i] for i in range(A.n)]\n",
    "\n",
    "EIG1 = observables.eigenvector_centrality(A, weight = 'weight')\n",
    "eig1 = [EIG1[i] for i in range(A.n)]\n",
    "\n",
    "ax1 = fig.add_subplot(121)\n",
    "ax1.scatter(eig, eig1, c = 'darkslategrey', alpha = .5)\n",
    "ax1.set(title = 'Eigenvector')\n",
    "plt.xlabel('Uniform')\n",
    "plt.ylabel('Information Flow')\n",
    "\n",
    "ax2 = fig.add_subplot(122)\n",
    "ax2.scatter(pr, pr1, c = 'darkslategrey', alpha = .5)\n",
    "ax2.set(ylim = (-0.001,max(pr1)+.001), xlim = (-0.001, max(pr)+.001))\n",
    "\n",
    "ax2.set(title = 'Pagerank')\n",
    "plt.xlabel('Uniform')\n",
    "\n",
    "for ax in [ax1, ax2]:\n",
    "    for loc in ['right', 'top']:\n",
    "        ax.spines[loc].set_visible(False)\n",
    "\n",
    "plt.tight_layout()\n",
    "\n",
    "plt.savefig('fig/centrality_dependence.pdf')"
   ]
  },
  {
   "cell_type": "code",
   "execution_count": 45,
   "metadata": {},
   "outputs": [
    {
     "data": {
      "text/plain": [
       "(103, 44)"
      ]
     },
     "execution_count": 45,
     "metadata": {},
     "output_type": "execute_result"
    }
   ],
   "source": [
    "np.argmax(np.array(pr1)), np.argmax(np.array(pr))"
   ]
  },
  {
   "cell_type": "code",
   "execution_count": 46,
   "metadata": {},
   "outputs": [
    {
     "data": {
      "text/plain": [
       "(103, 63)"
      ]
     },
     "execution_count": 46,
     "metadata": {},
     "output_type": "execute_result"
    }
   ],
   "source": [
    "np.argmax(np.array(eig1)), np.argmax(np.array(eig))"
   ]
  },
  {
   "cell_type": "code",
   "execution_count": null,
   "metadata": {},
   "outputs": [],
   "source": []
  }
 ],
 "metadata": {
  "kernelspec": {
   "display_name": "Python 3",
   "language": "python",
   "name": "python3"
  },
  "language_info": {
   "codemirror_mode": {
    "name": "ipython",
    "version": 3
   },
   "file_extension": ".py",
   "mimetype": "text/x-python",
   "name": "python",
   "nbconvert_exporter": "python",
   "pygments_lexer": "ipython3",
   "version": "3.7.2"
  }
 },
 "nbformat": 4,
 "nbformat_minor": 2
}
